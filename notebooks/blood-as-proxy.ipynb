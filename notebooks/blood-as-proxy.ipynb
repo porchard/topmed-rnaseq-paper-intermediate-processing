{
 "cells": [
  {
   "cell_type": "code",
   "execution_count": 1,
   "metadata": {
    "execution": {
     "iopub.execute_input": "2024-12-02T18:47:45.479905Z",
     "iopub.status.busy": "2024-12-02T18:47:45.479720Z",
     "iopub.status.idle": "2024-12-02T18:58:24.475235Z",
     "shell.execute_reply": "2024-12-02T18:58:24.474750Z"
    }
   },
   "outputs": [],
   "source": [
    "import re\n",
    "import os\n",
    "import glob\n",
    "\n",
    "import pandas as pd\n",
    "from topmed_manuscript_clean import top_pip_variants, phenotype_id_to_gene_id, format_modality, cis_eqtl_pcs, cis_sqtl_pcs\n",
    "\n",
    "# for each non-whole blood CS, determine whether it overlaps a whole blood CS for the same gene\n",
    "\n",
    "\n",
    "def compare_credible_sets(scan_1_cs, scan_2_cs, summarize=True):\n",
    "    \"\"\"\n",
    "    Given a dataframe representing scan_1_cs and scan_2_cs (each having columns ['phenotype_id', 'variant_id', 'cs_id']; can have other columns too),\n",
    "    return a dataframe showing, for each CS in scan_1_cs, whether it overlaps a CS in scan_2_cs (for the same phenotype_id)\n",
    "    If summarize = False, simply returns scan_1_cs with an added column indicating whether each credible set SNP is a credible set SNP \n",
    "    for the same phenotype in the other scan\n",
    "    \"\"\"\n",
    "    # Validate input\n",
    "    if not isinstance(scan_1_cs, pd.DataFrame):\n",
    "        raise TypeError('scan_1_cs must be a DataFrame')\n",
    "    if not isinstance(scan_2_cs, pd.DataFrame):\n",
    "        raise TypeError('scan_2_cs must be a DataFrame')\n",
    "    for i in ['phenotype_id', 'variant_id', 'cs_id']:\n",
    "        if not i in scan_1_cs.columns.to_list():\n",
    "            raise ValueError(f'scan_1_cs must include column {i}')\n",
    "        if not i in scan_2_cs.columns.to_list():\n",
    "            raise ValueError(f'scan_2_cs must include column {i}')\n",
    "\n",
    "    results = scan_1_cs.merge(scan_2_cs[['phenotype_id', 'variant_id']].drop_duplicates().assign(in_other_scan_cs=1), how='left')\n",
    "    results.in_other_scan_cs = results.in_other_scan_cs.fillna(0).astype(int)\n",
    "    assert(len(results) == len(scan_1_cs))\n",
    "\n",
    "    if summarize:\n",
    "        return results.groupby(['phenotype_id', 'cs_id']).in_other_scan_cs.max().reset_index()\n",
    "    else:\n",
    "        return results\n",
    "\n",
    "PREFIX = 'blood-as-proxy.'\n",
    "\n",
    "# TODO: for splicing, do we wish to require that a given intron was tested in blood and other tissue? Currently just requiring that the gene was tested in the cis-sQTL scan"
   ]
  },
  {
   "cell_type": "code",
   "execution_count": 2,
   "metadata": {
    "execution": {
     "iopub.execute_input": "2024-12-02T18:58:24.477555Z",
     "iopub.status.busy": "2024-12-02T18:58:24.477246Z",
     "iopub.status.idle": "2024-12-02T18:59:33.900483Z",
     "shell.execute_reply": "2024-12-02T18:59:33.899852Z"
    }
   },
   "outputs": [],
   "source": [
    "# 1% only, as at this point in the manuscript we haven't yet done 0.1% scans\n",
    "to_load = glob.glob('../data/scan-results/joint/cis-eqtl/susie/maf001/*.cs.txt') + glob.glob('../data/scan-results/joint/cis-sqtl/susie/maf001/postprocessed/*.by-gene.cs.txt')\n",
    "to_load_tissues = [os.path.basename(x).split('.')[0] for x in to_load]\n",
    "to_load_modalities = [format_modality(re.search('(cis-[es]qtl)', x).group(1)) for x in to_load]\n",
    "susie = pd.concat([pd.read_csv(f, sep='\\t').assign(tissue=os.path.basename(f).split('.')[0], modality=modality) for f, tissue, modality in zip(to_load, to_load_tissues, to_load_modalities)])\n",
    "susie['unique_cs_id'] = susie.phenotype_id + '___' + susie.cs_id.astype(str)\n",
    "susie['gene_id'] = susie.phenotype_id.map(phenotype_id_to_gene_id)\n",
    "\n",
    "CIS_EQTL_PERMUTATIONS_GLOB = glob.glob('../../manuscript-intermediate-processing/data/scan-results/joint/cis-eqtl/permutations/maf001/*.txt.gz')\n",
    "CIS_SQTL_PERMUTATIONS_GLOB = glob.glob('../../manuscript-intermediate-processing/data/scan-results/joint/cis-sqtl/permutations/maf001/*.txt.gz')\n",
    "cis_eqtl_permutations_all = pd.concat([pd.read_csv(f, sep='\\t').assign(tissue=os.path.basename(f).split('.')[0], pcs=int(os.path.basename(f).split('.')[1])) for f in CIS_EQTL_PERMUTATIONS_GLOB])\n",
    "cis_sqtl_permutations_all = pd.concat([pd.read_csv(f, sep='\\t').assign(tissue=os.path.basename(f).split('.')[0], pcs=int(os.path.basename(f).split('.')[1])) for f in CIS_SQTL_PERMUTATIONS_GLOB])\n",
    "cis_eqtl_permutations = cis_eqtl_permutations_all[cis_eqtl_permutations_all.tissue.map(cis_eqtl_pcs) == cis_eqtl_permutations_all.pcs]\n",
    "cis_sqtl_permutations = cis_sqtl_permutations_all[cis_sqtl_permutations_all.tissue.map(cis_sqtl_pcs) == cis_sqtl_permutations_all.pcs]\n",
    "permutations = pd.concat([cis_eqtl_permutations.assign(modality='cis-eQTL'), cis_sqtl_permutations.assign(modality='cis-sQTL')])\n",
    "permutations['gene_id'] = permutations.phenotype_id.map(phenotype_id_to_gene_id)"
   ]
  },
  {
   "cell_type": "code",
   "execution_count": 3,
   "metadata": {
    "execution": {
     "iopub.execute_input": "2024-12-02T18:59:33.903849Z",
     "iopub.status.busy": "2024-12-02T18:59:33.903629Z",
     "iopub.status.idle": "2024-12-02T18:59:33.915303Z",
     "shell.execute_reply": "2024-12-02T18:59:33.914955Z"
    }
   },
   "outputs": [],
   "source": [
    "OTHER_TISSUES = [i for i in permutations.tissue.unique() if i != 'Whole_blood']"
   ]
  },
  {
   "cell_type": "code",
   "execution_count": 4,
   "metadata": {
    "execution": {
     "iopub.execute_input": "2024-12-02T18:59:33.916952Z",
     "iopub.status.busy": "2024-12-02T18:59:33.916735Z",
     "iopub.status.idle": "2024-12-02T18:59:41.812546Z",
     "shell.execute_reply": "2024-12-02T18:59:41.812161Z"
    }
   },
   "outputs": [],
   "source": [
    "# for each non-whole-blood tissue, keep genes tested in that tissue and whole blood\n",
    "genes_per_modality_per_tissue = {(tissue, modality): set(df.gene_id) for (tissue, modality), df in permutations.groupby(['tissue', 'modality'])}"
   ]
  },
  {
   "cell_type": "code",
   "execution_count": 5,
   "metadata": {
    "execution": {
     "iopub.execute_input": "2024-12-02T18:59:41.814576Z",
     "iopub.status.busy": "2024-12-02T18:59:41.814369Z",
     "iopub.status.idle": "2024-12-02T18:59:41.923050Z",
     "shell.execute_reply": "2024-12-02T18:59:41.922656Z"
    }
   },
   "outputs": [
    {
     "name": "stdout",
     "output_type": "stream",
     "text": [
      "223173\n",
      "192591\n"
     ]
    }
   ],
   "source": [
    "print(len(permutations))\n",
    "permutations = permutations.loc[[gene_id in genes_per_modality_per_tissue[('Whole_blood', modality)] for modality, gene_id in zip(permutations.modality, permutations.gene_id)]]\n",
    "print(len(permutations))"
   ]
  },
  {
   "cell_type": "code",
   "execution_count": 6,
   "metadata": {
    "execution": {
     "iopub.execute_input": "2024-12-02T18:59:42.205627Z",
     "iopub.status.busy": "2024-12-02T18:59:42.205383Z",
     "iopub.status.idle": "2024-12-02T18:59:45.982797Z",
     "shell.execute_reply": "2024-12-02T18:59:45.982320Z"
    }
   },
   "outputs": [
    {
     "name": "stdout",
     "output_type": "stream",
     "text": [
      "3357850\n"
     ]
    },
    {
     "name": "stdout",
     "output_type": "stream",
     "text": [
      "3063826\n"
     ]
    }
   ],
   "source": [
    "print(len(susie))\n",
    "susie = susie.loc[[gene_id in genes_per_modality_per_tissue[('Whole_blood', modality)] for modality, gene_id in zip(susie.modality, susie.gene_id)]]\n",
    "print(len(susie))"
   ]
  },
  {
   "cell_type": "code",
   "execution_count": 7,
   "metadata": {
    "execution": {
     "iopub.execute_input": "2024-12-02T18:59:45.985030Z",
     "iopub.status.busy": "2024-12-02T18:59:45.984595Z",
     "iopub.status.idle": "2024-12-02T18:59:51.672399Z",
     "shell.execute_reply": "2024-12-02T18:59:51.671721Z"
    }
   },
   "outputs": [
    {
     "name": "stderr",
     "output_type": "stream",
     "text": [
      "/tmp/ipykernel_3154239/1585228361.py:1: DeprecationWarning: DataFrameGroupBy.apply operated on the grouping columns. This behavior is deprecated, and in a future version of pandas the grouping columns will be excluded from the operation. Either pass `include_groups=False` to exclude the groupings or explicitly select the grouping columns after groupby to silence this warning.\n",
      "  top = susie.groupby(['tissue', 'modality']).apply(top_pip_variants).reset_index(drop=True)\n"
     ]
    },
    {
     "data": {
      "text/html": [
       "<div>\n",
       "<style scoped>\n",
       "    .dataframe tbody tr th:only-of-type {\n",
       "        vertical-align: middle;\n",
       "    }\n",
       "\n",
       "    .dataframe tbody tr th {\n",
       "        vertical-align: top;\n",
       "    }\n",
       "\n",
       "    .dataframe thead th {\n",
       "        text-align: right;\n",
       "    }\n",
       "</style>\n",
       "<table border=\"1\" class=\"dataframe\">\n",
       "  <thead>\n",
       "    <tr style=\"text-align: right;\">\n",
       "      <th></th>\n",
       "      <th>phenotype_id</th>\n",
       "      <th>variant_id</th>\n",
       "      <th>pip</th>\n",
       "      <th>af</th>\n",
       "      <th>cs_id</th>\n",
       "      <th>tissue</th>\n",
       "      <th>modality</th>\n",
       "      <th>unique_cs_id</th>\n",
       "      <th>gene_id</th>\n",
       "    </tr>\n",
       "  </thead>\n",
       "  <tbody>\n",
       "    <tr>\n",
       "      <th>0</th>\n",
       "      <td>ENSG00000107819.13</td>\n",
       "      <td>chr10_101032154_C_A</td>\n",
       "      <td>1.0</td>\n",
       "      <td>0.205267</td>\n",
       "      <td>2</td>\n",
       "      <td>Lung</td>\n",
       "      <td>cis-eQTL</td>\n",
       "      <td>ENSG00000107819.13___2</td>\n",
       "      <td>ENSG00000107819.13</td>\n",
       "    </tr>\n",
       "    <tr>\n",
       "      <th>1</th>\n",
       "      <td>ENSG00000107819.13</td>\n",
       "      <td>chr10_101035974_G_A</td>\n",
       "      <td>1.0</td>\n",
       "      <td>0.089466</td>\n",
       "      <td>1</td>\n",
       "      <td>Lung</td>\n",
       "      <td>cis-eQTL</td>\n",
       "      <td>ENSG00000107819.13___1</td>\n",
       "      <td>ENSG00000107819.13</td>\n",
       "    </tr>\n",
       "    <tr>\n",
       "      <th>2</th>\n",
       "      <td>ENSG00000269609.5</td>\n",
       "      <td>chr10_102437570_A_G</td>\n",
       "      <td>1.0</td>\n",
       "      <td>0.106894</td>\n",
       "      <td>3</td>\n",
       "      <td>Lung</td>\n",
       "      <td>cis-eQTL</td>\n",
       "      <td>ENSG00000269609.5___3</td>\n",
       "      <td>ENSG00000269609.5</td>\n",
       "    </tr>\n",
       "    <tr>\n",
       "      <th>3</th>\n",
       "      <td>ENSG00000156398.13</td>\n",
       "      <td>chr10_102727625_C_T</td>\n",
       "      <td>1.0</td>\n",
       "      <td>0.163439</td>\n",
       "      <td>1</td>\n",
       "      <td>Lung</td>\n",
       "      <td>cis-eQTL</td>\n",
       "      <td>ENSG00000156398.13___1</td>\n",
       "      <td>ENSG00000156398.13</td>\n",
       "    </tr>\n",
       "    <tr>\n",
       "      <th>4</th>\n",
       "      <td>ENSG00000197142.10</td>\n",
       "      <td>chr10_112364188_C_G</td>\n",
       "      <td>1.0</td>\n",
       "      <td>0.364446</td>\n",
       "      <td>1</td>\n",
       "      <td>Lung</td>\n",
       "      <td>cis-eQTL</td>\n",
       "      <td>ENSG00000197142.10___1</td>\n",
       "      <td>ENSG00000197142.10</td>\n",
       "    </tr>\n",
       "  </tbody>\n",
       "</table>\n",
       "</div>"
      ],
      "text/plain": [
       "         phenotype_id           variant_id  pip        af  cs_id tissue  \\\n",
       "0  ENSG00000107819.13  chr10_101032154_C_A  1.0  0.205267      2   Lung   \n",
       "1  ENSG00000107819.13  chr10_101035974_G_A  1.0  0.089466      1   Lung   \n",
       "2   ENSG00000269609.5  chr10_102437570_A_G  1.0  0.106894      3   Lung   \n",
       "3  ENSG00000156398.13  chr10_102727625_C_T  1.0  0.163439      1   Lung   \n",
       "4  ENSG00000197142.10  chr10_112364188_C_G  1.0  0.364446      1   Lung   \n",
       "\n",
       "   modality            unique_cs_id             gene_id  \n",
       "0  cis-eQTL  ENSG00000107819.13___2  ENSG00000107819.13  \n",
       "1  cis-eQTL  ENSG00000107819.13___1  ENSG00000107819.13  \n",
       "2  cis-eQTL   ENSG00000269609.5___3   ENSG00000269609.5  \n",
       "3  cis-eQTL  ENSG00000156398.13___1  ENSG00000156398.13  \n",
       "4  cis-eQTL  ENSG00000197142.10___1  ENSG00000197142.10  "
      ]
     },
     "execution_count": 7,
     "metadata": {},
     "output_type": "execute_result"
    }
   ],
   "source": [
    "top = susie.groupby(['tissue', 'modality']).apply(top_pip_variants).reset_index(drop=True)\n",
    "top.head()"
   ]
  },
  {
   "cell_type": "code",
   "execution_count": 8,
   "metadata": {
    "execution": {
     "iopub.execute_input": "2024-12-02T18:59:51.674040Z",
     "iopub.status.busy": "2024-12-02T18:59:51.673777Z",
     "iopub.status.idle": "2024-12-02T19:00:01.348397Z",
     "shell.execute_reply": "2024-12-02T19:00:01.347831Z"
    }
   },
   "outputs": [
    {
     "data": {
      "text/html": [
       "<div>\n",
       "<style scoped>\n",
       "    .dataframe tbody tr th:only-of-type {\n",
       "        vertical-align: middle;\n",
       "    }\n",
       "\n",
       "    .dataframe tbody tr th {\n",
       "        vertical-align: top;\n",
       "    }\n",
       "\n",
       "    .dataframe thead th {\n",
       "        text-align: right;\n",
       "    }\n",
       "</style>\n",
       "<table border=\"1\" class=\"dataframe\">\n",
       "  <thead>\n",
       "    <tr style=\"text-align: right;\">\n",
       "      <th></th>\n",
       "      <th>gene_id</th>\n",
       "      <th>unique_cs_id</th>\n",
       "      <th>in_other_scan_cs</th>\n",
       "      <th>tissue</th>\n",
       "      <th>modality</th>\n",
       "    </tr>\n",
       "  </thead>\n",
       "  <tbody>\n",
       "    <tr>\n",
       "      <th>0</th>\n",
       "      <td>ENSG00000000003.14</td>\n",
       "      <td>ENSG00000000003.14___1</td>\n",
       "      <td>0</td>\n",
       "      <td>Lung</td>\n",
       "      <td>cis-eQTL</td>\n",
       "    </tr>\n",
       "    <tr>\n",
       "      <th>1</th>\n",
       "      <td>ENSG00000000457.14</td>\n",
       "      <td>ENSG00000000457.14___1</td>\n",
       "      <td>1</td>\n",
       "      <td>Lung</td>\n",
       "      <td>cis-eQTL</td>\n",
       "    </tr>\n",
       "    <tr>\n",
       "      <th>2</th>\n",
       "      <td>ENSG00000000460.17</td>\n",
       "      <td>ENSG00000000460.17___1</td>\n",
       "      <td>1</td>\n",
       "      <td>Lung</td>\n",
       "      <td>cis-eQTL</td>\n",
       "    </tr>\n",
       "    <tr>\n",
       "      <th>3</th>\n",
       "      <td>ENSG00000000460.17</td>\n",
       "      <td>ENSG00000000460.17___2</td>\n",
       "      <td>0</td>\n",
       "      <td>Lung</td>\n",
       "      <td>cis-eQTL</td>\n",
       "    </tr>\n",
       "    <tr>\n",
       "      <th>4</th>\n",
       "      <td>ENSG00000000971.15</td>\n",
       "      <td>ENSG00000000971.15___1</td>\n",
       "      <td>0</td>\n",
       "      <td>Lung</td>\n",
       "      <td>cis-eQTL</td>\n",
       "    </tr>\n",
       "  </tbody>\n",
       "</table>\n",
       "</div>"
      ],
      "text/plain": [
       "              gene_id            unique_cs_id  in_other_scan_cs tissue  \\\n",
       "0  ENSG00000000003.14  ENSG00000000003.14___1                 0   Lung   \n",
       "1  ENSG00000000457.14  ENSG00000000457.14___1                 1   Lung   \n",
       "2  ENSG00000000460.17  ENSG00000000460.17___1                 1   Lung   \n",
       "3  ENSG00000000460.17  ENSG00000000460.17___2                 0   Lung   \n",
       "4  ENSG00000000971.15  ENSG00000000971.15___1                 0   Lung   \n",
       "\n",
       "   modality  \n",
       "0  cis-eQTL  \n",
       "1  cis-eQTL  \n",
       "2  cis-eQTL  \n",
       "3  cis-eQTL  \n",
       "4  cis-eQTL  "
      ]
     },
     "execution_count": 8,
     "metadata": {},
     "output_type": "execute_result"
    }
   ],
   "source": [
    "credible_set_in_blood = []\n",
    "susie['phenotype_id'] = susie.gene_id\n",
    "susie['cs_id'] = susie.unique_cs_id\n",
    "\n",
    "for (tissue, modality), df in susie.groupby(['tissue', 'modality']):\n",
    "    if tissue not in OTHER_TISSUES:\n",
    "        continue\n",
    "    tmp = compare_credible_sets(df, susie[(susie.tissue=='Whole_blood') & (susie.modality==modality)]).assign(tissue=tissue, modality=modality)\n",
    "    credible_set_in_blood.append(tmp)\n",
    "\n",
    "credible_set_in_blood = pd.concat(credible_set_in_blood).rename(columns={'phenotype_id': 'gene_id', 'cs_id': 'unique_cs_id'})\n",
    "credible_set_in_blood.head()"
   ]
  },
  {
   "cell_type": "code",
   "execution_count": 9,
   "metadata": {
    "execution": {
     "iopub.execute_input": "2024-12-02T19:00:01.350075Z",
     "iopub.status.busy": "2024-12-02T19:00:01.349837Z",
     "iopub.status.idle": "2024-12-02T19:00:01.370779Z",
     "shell.execute_reply": "2024-12-02T19:00:01.370258Z"
    }
   },
   "outputs": [
    {
     "data": {
      "text/plain": [
       "tissue            modality\n",
       "Lung              cis-eQTL    0.469268\n",
       "                  cis-sQTL    0.634774\n",
       "Monocyte          cis-eQTL    0.653888\n",
       "                  cis-sQTL    0.775477\n",
       "Nasal_epithelial  cis-eQTL    0.447487\n",
       "                  cis-sQTL    0.602015\n",
       "PBMC              cis-eQTL    0.656701\n",
       "                  cis-sQTL    0.679758\n",
       "T_cell            cis-eQTL    0.693311\n",
       "                  cis-sQTL    0.773790\n",
       "Name: in_other_scan_cs, dtype: float64"
      ]
     },
     "execution_count": 9,
     "metadata": {},
     "output_type": "execute_result"
    }
   ],
   "source": [
    "credible_set_in_blood.groupby(['tissue', 'modality']).in_other_scan_cs.mean()"
   ]
  },
  {
   "cell_type": "code",
   "execution_count": 10,
   "metadata": {
    "execution": {
     "iopub.execute_input": "2024-12-02T19:00:01.372211Z",
     "iopub.status.busy": "2024-12-02T19:00:01.371952Z",
     "iopub.status.idle": "2024-12-02T19:00:01.609985Z",
     "shell.execute_reply": "2024-12-02T19:00:01.609543Z"
    }
   },
   "outputs": [
    {
     "name": "stdout",
     "output_type": "stream",
     "text": [
      "129231\n"
     ]
    },
    {
     "name": "stdout",
     "output_type": "stream",
     "text": [
      "129231\n"
     ]
    }
   ],
   "source": [
    "print(len(credible_set_in_blood))\n",
    "credible_set_in_blood = credible_set_in_blood.merge(top)\n",
    "print(len(credible_set_in_blood))"
   ]
  },
  {
   "cell_type": "code",
   "execution_count": 11,
   "metadata": {
    "execution": {
     "iopub.execute_input": "2024-12-02T19:00:01.611654Z",
     "iopub.status.busy": "2024-12-02T19:00:01.611277Z",
     "iopub.status.idle": "2024-12-02T19:00:02.184172Z",
     "shell.execute_reply": "2024-12-02T19:00:02.183567Z"
    }
   },
   "outputs": [],
   "source": [
    "credible_set_in_blood[['phenotype_id', 'variant_id', 'pip', 'af', 'cs_id', 'tissue', 'modality', 'in_other_scan_cs']].rename(columns={'in_other_scan_cs': 'in_whole_blood'}).to_csv(f'tables/{PREFIX}credible_set_in_blood.tsv', sep='\\t', index=False)"
   ]
  }
 ],
 "metadata": {
  "kernelspec": {
   "display_name": "2020-09",
   "language": "python",
   "name": "python3"
  },
  "language_info": {
   "codemirror_mode": {
    "name": "ipython",
    "version": 3
   },
   "file_extension": ".py",
   "mimetype": "text/x-python",
   "name": "python",
   "nbconvert_exporter": "python",
   "pygments_lexer": "ipython3",
   "version": "3.12.7"
  }
 },
 "nbformat": 4,
 "nbformat_minor": 2
}
