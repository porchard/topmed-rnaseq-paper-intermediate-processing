{
 "cells": [
  {
   "cell_type": "code",
   "execution_count": 1,
   "metadata": {
    "execution": {
     "iopub.execute_input": "2024-12-06T16:13:28.517602Z",
     "iopub.status.busy": "2024-12-06T16:13:28.517051Z",
     "iopub.status.idle": "2024-12-06T16:13:32.559491Z",
     "shell.execute_reply": "2024-12-06T16:13:32.558201Z"
    }
   },
   "outputs": [],
   "source": [
    "import pandas as pd\n",
    "\n",
    "def parse_attribute(attribute_series: pd.Series, attribute_name: str) -> pd.Series:\n",
    "    \"\"\"\n",
    "    Parse the attributes column of a (GENCODE/RefSeq) GTF file.\n",
    "\n",
    "    Input:\n",
    "    * a [str]: the attributes element (column 9 of the GTF file)\n",
    "    * regex [str]: a regular expression that will be iteratively applied to the attribute string to capture attribute key, val pairs. Default should work for GENCODE/RefSeq\n",
    "    \"\"\"\n",
    "    if not isinstance(attribute_series, pd.Series):\n",
    "        raise TypeError('attribute_series must be a pandas Series')\n",
    "    if not isinstance(attribute_name, str):\n",
    "        raise TypeError('attribute_name must be a string')\n",
    "    \n",
    "    return attribute_series.str.extract(f'{attribute_name} \"(.*?)\"')\n",
    "\n",
    "\n",
    "def gtf_to_df(gtf: str, parse_attributes: list=None) -> pd.DataFrame:\n",
    "    df = pd.read_csv(gtf, sep='\\t', header=None, names=['chrom', 'source', 'feature', 'start', 'end', 'score', 'strand', 'frame', 'attributes'], comment='#')\n",
    "    if parse_attributes is not None:\n",
    "        for a in parse_attributes:\n",
    "            df[a] = parse_attribute(df.attributes, a)\n",
    "    return df\n",
    "\n",
    "PREFIX = 'summarize-panukbb-coloc.'\n",
    "\n",
    "GTF = '../../manuscript-intermediate-processing/data/gtf/gencode.v30.GRCh38.ERCC.genes.collapsed_only.gtf.gz'\n",
    "\n",
    "gtf_df = gtf_to_df(GTF, parse_attributes=['gene_id', 'gene_name'])\n",
    "gtf_df = gtf_df[gtf_df.feature=='gene']\n",
    "gene_id_to_gene_name = dict(zip(gtf_df.gene_id, gtf_df.gene_name))"
   ]
  },
  {
   "cell_type": "code",
   "execution_count": 2,
   "metadata": {
    "execution": {
     "iopub.execute_input": "2024-12-06T16:13:32.565079Z",
     "iopub.status.busy": "2024-12-06T16:13:32.564441Z",
     "iopub.status.idle": "2024-12-06T16:13:32.968720Z",
     "shell.execute_reply": "2024-12-06T16:13:32.967691Z"
    }
   },
   "outputs": [],
   "source": [
    "manifest = pd.read_csv('/net/topmed11/working/porchard/panukbb-finemapping/work/selected-traits/manifest.EUR.txt', sep='\\t').loc[:,['trait_id', 'description', 'description_more', 'coding_description']]\n",
    "coloced_joint = pd.read_csv('../../manuscript-intermediate-processing/work/coloc/panukbb/joint/postprocessed.txt', sep='\\t')\n",
    "coloced_joint = coloced_joint[coloced_joint.gwas_ancestry=='EUR']"
   ]
  },
  {
   "cell_type": "code",
   "execution_count": 3,
   "metadata": {
    "execution": {
     "iopub.execute_input": "2024-12-06T16:13:32.971573Z",
     "iopub.status.busy": "2024-12-06T16:13:32.971164Z",
     "iopub.status.idle": "2024-12-06T16:13:33.036080Z",
     "shell.execute_reply": "2024-12-06T16:13:33.035218Z"
    }
   },
   "outputs": [
    {
     "name": "stdout",
     "output_type": "stream",
     "text": [
      "7260\n",
      "7241\n"
     ]
    }
   ],
   "source": [
    "print(len(coloced_joint.loc[(coloced_joint.xqtl_modality.str.contains('cis')) & (coloced_joint.xqtl_tissue=='Whole_blood') & (coloced_joint.xqtl_maf=='0.1%'),['gwas_cs', 'gwas_signal']].drop_duplicates()))\n",
    "print(len(coloced_joint.loc[(coloced_joint.xqtl_modality.str.contains('cis')) & (coloced_joint.xqtl_tissue=='Whole_blood') & (coloced_joint.xqtl_maf=='1%'),['gwas_cs', 'gwas_signal']].drop_duplicates()))"
   ]
  },
  {
   "cell_type": "code",
   "execution_count": 4,
   "metadata": {
    "execution": {
     "iopub.execute_input": "2024-12-06T16:13:33.071195Z",
     "iopub.status.busy": "2024-12-06T16:13:33.070453Z",
     "iopub.status.idle": "2024-12-06T16:13:33.089016Z",
     "shell.execute_reply": "2024-12-06T16:13:33.088081Z"
    }
   },
   "outputs": [],
   "source": [
    "coloced_joint = coloced_joint[(coloced_joint.xqtl_maf!='0.1%')]"
   ]
  },
  {
   "cell_type": "code",
   "execution_count": 5,
   "metadata": {
    "execution": {
     "iopub.execute_input": "2024-12-06T16:13:33.093061Z",
     "iopub.status.busy": "2024-12-06T16:13:33.092441Z",
     "iopub.status.idle": "2024-12-06T16:13:33.108842Z",
     "shell.execute_reply": "2024-12-06T16:13:33.108266Z"
    }
   },
   "outputs": [
    {
     "data": {
      "text/plain": [
       "10611"
      ]
     },
     "execution_count": 5,
     "metadata": {},
     "output_type": "execute_result"
    }
   ],
   "source": [
    "len(coloced_joint[['gwas_signal', 'gwas_cs']].drop_duplicates())"
   ]
  },
  {
   "cell_type": "code",
   "execution_count": 6,
   "metadata": {
    "execution": {
     "iopub.execute_input": "2024-12-06T16:13:33.113010Z",
     "iopub.status.busy": "2024-12-06T16:13:33.112769Z",
     "iopub.status.idle": "2024-12-06T16:13:33.154383Z",
     "shell.execute_reply": "2024-12-06T16:13:33.153661Z"
    }
   },
   "outputs": [
    {
     "data": {
      "text/html": [
       "<div>\n",
       "<style scoped>\n",
       "    .dataframe tbody tr th:only-of-type {\n",
       "        vertical-align: middle;\n",
       "    }\n",
       "\n",
       "    .dataframe tbody tr th {\n",
       "        vertical-align: top;\n",
       "    }\n",
       "\n",
       "    .dataframe thead th {\n",
       "        text-align: right;\n",
       "    }\n",
       "</style>\n",
       "<table border=\"1\" class=\"dataframe\">\n",
       "  <thead>\n",
       "    <tr style=\"text-align: right;\">\n",
       "      <th></th>\n",
       "      <th>xqtl_tissue</th>\n",
       "      <th>xqtl_maf</th>\n",
       "      <th>xqtl_modality</th>\n",
       "      <th>xqtl_gene</th>\n",
       "      <th>gwas_trait</th>\n",
       "      <th>n_colocs</th>\n",
       "    </tr>\n",
       "  </thead>\n",
       "  <tbody>\n",
       "    <tr>\n",
       "      <th>0</th>\n",
       "      <td>Lung</td>\n",
       "      <td>1%</td>\n",
       "      <td>ciseqtl</td>\n",
       "      <td>ENSG00000001461.17</td>\n",
       "      <td>categorical-1747-both_sexes-4</td>\n",
       "      <td>1</td>\n",
       "    </tr>\n",
       "    <tr>\n",
       "      <th>1</th>\n",
       "      <td>Lung</td>\n",
       "      <td>1%</td>\n",
       "      <td>ciseqtl</td>\n",
       "      <td>ENSG00000001561.7</td>\n",
       "      <td>biomarkers-30770-both_sexes-irnt</td>\n",
       "      <td>1</td>\n",
       "    </tr>\n",
       "    <tr>\n",
       "      <th>2</th>\n",
       "      <td>Lung</td>\n",
       "      <td>1%</td>\n",
       "      <td>ciseqtl</td>\n",
       "      <td>ENSG00000002726.20</td>\n",
       "      <td>biomarkers-30630-both_sexes-irnt</td>\n",
       "      <td>1</td>\n",
       "    </tr>\n",
       "    <tr>\n",
       "      <th>3</th>\n",
       "      <td>Lung</td>\n",
       "      <td>1%</td>\n",
       "      <td>ciseqtl</td>\n",
       "      <td>ENSG00000002726.20</td>\n",
       "      <td>biomarkers-30680-both_sexes-irnt</td>\n",
       "      <td>1</td>\n",
       "    </tr>\n",
       "    <tr>\n",
       "      <th>4</th>\n",
       "      <td>Lung</td>\n",
       "      <td>1%</td>\n",
       "      <td>ciseqtl</td>\n",
       "      <td>ENSG00000002726.20</td>\n",
       "      <td>biomarkers-30760-both_sexes-irnt</td>\n",
       "      <td>1</td>\n",
       "    </tr>\n",
       "  </tbody>\n",
       "</table>\n",
       "</div>"
      ],
      "text/plain": [
       "  xqtl_tissue xqtl_maf xqtl_modality           xqtl_gene  \\\n",
       "0        Lung       1%       ciseqtl  ENSG00000001461.17   \n",
       "1        Lung       1%       ciseqtl   ENSG00000001561.7   \n",
       "2        Lung       1%       ciseqtl  ENSG00000002726.20   \n",
       "3        Lung       1%       ciseqtl  ENSG00000002726.20   \n",
       "4        Lung       1%       ciseqtl  ENSG00000002726.20   \n",
       "\n",
       "                         gwas_trait  n_colocs  \n",
       "0     categorical-1747-both_sexes-4         1  \n",
       "1  biomarkers-30770-both_sexes-irnt         1  \n",
       "2  biomarkers-30630-both_sexes-irnt         1  \n",
       "3  biomarkers-30680-both_sexes-irnt         1  \n",
       "4  biomarkers-30760-both_sexes-irnt         1  "
      ]
     },
     "execution_count": 6,
     "metadata": {},
     "output_type": "execute_result"
    }
   ],
   "source": [
    "# look for cases where there is more than one coloc between a given gene and GWAS trait\n",
    "x = coloced_joint.groupby(['xqtl_tissue', 'xqtl_maf', 'xqtl_modality', 'xqtl_gene', 'gwas_trait']).size().rename('n_colocs').reset_index()\n",
    "#x = x[x.n_colocs>1]\n",
    "x.head()"
   ]
  },
  {
   "cell_type": "code",
   "execution_count": 7,
   "metadata": {
    "execution": {
     "iopub.execute_input": "2024-12-06T16:13:33.158853Z",
     "iopub.status.busy": "2024-12-06T16:13:33.158479Z",
     "iopub.status.idle": "2024-12-06T16:13:33.165407Z",
     "shell.execute_reply": "2024-12-06T16:13:33.164805Z"
    }
   },
   "outputs": [
    {
     "data": {
      "text/plain": [
       "1    42775\n",
       "2      609\n",
       "3       44\n",
       "4        6\n",
       "Name: n_colocs, dtype: int64"
      ]
     },
     "execution_count": 7,
     "metadata": {},
     "output_type": "execute_result"
    }
   ],
   "source": [
    "x.n_colocs.value_counts()"
   ]
  },
  {
   "cell_type": "code",
   "execution_count": 8,
   "metadata": {
    "execution": {
     "iopub.execute_input": "2024-12-06T16:13:33.170091Z",
     "iopub.status.busy": "2024-12-06T16:13:33.169454Z",
     "iopub.status.idle": "2024-12-06T16:13:33.216895Z",
     "shell.execute_reply": "2024-12-06T16:13:33.216174Z"
    }
   },
   "outputs": [
    {
     "data": {
      "text/html": [
       "<div>\n",
       "<style scoped>\n",
       "    .dataframe tbody tr th:only-of-type {\n",
       "        vertical-align: middle;\n",
       "    }\n",
       "\n",
       "    .dataframe tbody tr th {\n",
       "        vertical-align: top;\n",
       "    }\n",
       "\n",
       "    .dataframe thead th {\n",
       "        text-align: right;\n",
       "    }\n",
       "</style>\n",
       "<table border=\"1\" class=\"dataframe\">\n",
       "  <thead>\n",
       "    <tr style=\"text-align: right;\">\n",
       "      <th></th>\n",
       "      <th>xqtl_tissue</th>\n",
       "      <th>xqtl_maf</th>\n",
       "      <th>xqtl_modality</th>\n",
       "      <th>xqtl_gene</th>\n",
       "      <th>gwas_trait</th>\n",
       "      <th>n_colocs</th>\n",
       "      <th>description</th>\n",
       "      <th>description_more</th>\n",
       "      <th>coding_description</th>\n",
       "      <th>gene_name</th>\n",
       "    </tr>\n",
       "  </thead>\n",
       "  <tbody>\n",
       "    <tr>\n",
       "      <th>16029</th>\n",
       "      <td>Lung</td>\n",
       "      <td>1%</td>\n",
       "      <td>cissqtl</td>\n",
       "      <td>ENSG00000257017.8</td>\n",
       "      <td>biomarkers-30690-both_sexes-irnt</td>\n",
       "      <td>4</td>\n",
       "      <td>Cholesterol</td>\n",
       "      <td>NaN</td>\n",
       "      <td>NaN</td>\n",
       "      <td>HP</td>\n",
       "    </tr>\n",
       "    <tr>\n",
       "      <th>14895</th>\n",
       "      <td>Whole_blood</td>\n",
       "      <td>1%</td>\n",
       "      <td>cissqtl</td>\n",
       "      <td>ENSG00000244682.7</td>\n",
       "      <td>continuous-AG-both_sexes-irnt</td>\n",
       "      <td>4</td>\n",
       "      <td>Albumin/Globulin ratio</td>\n",
       "      <td>Albumin (30600) / (Total Protein [30860] - Alb...</td>\n",
       "      <td>NaN</td>\n",
       "      <td>FCGR2C</td>\n",
       "    </tr>\n",
       "    <tr>\n",
       "      <th>16691</th>\n",
       "      <td>Lung</td>\n",
       "      <td>1%</td>\n",
       "      <td>cissqtl</td>\n",
       "      <td>ENSG00000257017.8</td>\n",
       "      <td>continuous-LDLC-both_sexes-medadj_irnt</td>\n",
       "      <td>4</td>\n",
       "      <td>LDL direct, adjusted by medication</td>\n",
       "      <td>LDLC (30780) adjusted by the use of cholestero...</td>\n",
       "      <td>NaN</td>\n",
       "      <td>HP</td>\n",
       "    </tr>\n",
       "    <tr>\n",
       "      <th>18350</th>\n",
       "      <td>Lung</td>\n",
       "      <td>1%</td>\n",
       "      <td>cissqtl</td>\n",
       "      <td>ENSG00000257017.8</td>\n",
       "      <td>biomarkers-30640-both_sexes-irnt</td>\n",
       "      <td>4</td>\n",
       "      <td>Apolipoprotein B</td>\n",
       "      <td>NaN</td>\n",
       "      <td>NaN</td>\n",
       "      <td>HP</td>\n",
       "    </tr>\n",
       "    <tr>\n",
       "      <th>25742</th>\n",
       "      <td>Whole_blood</td>\n",
       "      <td>1%</td>\n",
       "      <td>ciseqtl</td>\n",
       "      <td>ENSG00000172216.5</td>\n",
       "      <td>continuous-30130-both_sexes-irnt</td>\n",
       "      <td>4</td>\n",
       "      <td>Monocyte count</td>\n",
       "      <td>Result of \"Monocytes Number\" assay, performed ...</td>\n",
       "      <td>NaN</td>\n",
       "      <td>CEBPB</td>\n",
       "    </tr>\n",
       "  </tbody>\n",
       "</table>\n",
       "</div>"
      ],
      "text/plain": [
       "       xqtl_tissue xqtl_maf xqtl_modality          xqtl_gene  \\\n",
       "16029         Lung       1%       cissqtl  ENSG00000257017.8   \n",
       "14895  Whole_blood       1%       cissqtl  ENSG00000244682.7   \n",
       "16691         Lung       1%       cissqtl  ENSG00000257017.8   \n",
       "18350         Lung       1%       cissqtl  ENSG00000257017.8   \n",
       "25742  Whole_blood       1%       ciseqtl  ENSG00000172216.5   \n",
       "\n",
       "                                   gwas_trait  n_colocs  \\\n",
       "16029        biomarkers-30690-both_sexes-irnt         4   \n",
       "14895           continuous-AG-both_sexes-irnt         4   \n",
       "16691  continuous-LDLC-both_sexes-medadj_irnt         4   \n",
       "18350        biomarkers-30640-both_sexes-irnt         4   \n",
       "25742        continuous-30130-both_sexes-irnt         4   \n",
       "\n",
       "                              description  \\\n",
       "16029                         Cholesterol   \n",
       "14895              Albumin/Globulin ratio   \n",
       "16691  LDL direct, adjusted by medication   \n",
       "18350                    Apolipoprotein B   \n",
       "25742                      Monocyte count   \n",
       "\n",
       "                                        description_more coding_description  \\\n",
       "16029                                                NaN                NaN   \n",
       "14895  Albumin (30600) / (Total Protein [30860] - Alb...                NaN   \n",
       "16691  LDLC (30780) adjusted by the use of cholestero...                NaN   \n",
       "18350                                                NaN                NaN   \n",
       "25742  Result of \"Monocytes Number\" assay, performed ...                NaN   \n",
       "\n",
       "      gene_name  \n",
       "16029        HP  \n",
       "14895    FCGR2C  \n",
       "16691        HP  \n",
       "18350        HP  \n",
       "25742     CEBPB  "
      ]
     },
     "execution_count": 8,
     "metadata": {},
     "output_type": "execute_result"
    }
   ],
   "source": [
    "x = x.merge(manifest.rename(columns={'trait_id': 'gwas_trait'})).sort_values('n_colocs', ascending=False)\n",
    "x['gene_name'] = x.xqtl_gene.map(gene_id_to_gene_name)\n",
    "x.head()"
   ]
  },
  {
   "cell_type": "code",
   "execution_count": 9,
   "metadata": {
    "execution": {
     "iopub.execute_input": "2024-12-06T16:13:33.221483Z",
     "iopub.status.busy": "2024-12-06T16:13:33.220840Z",
     "iopub.status.idle": "2024-12-06T16:13:33.241942Z",
     "shell.execute_reply": "2024-12-06T16:13:33.241231Z"
    }
   },
   "outputs": [
    {
     "data": {
      "text/html": [
       "<div>\n",
       "<style scoped>\n",
       "    .dataframe tbody tr th:only-of-type {\n",
       "        vertical-align: middle;\n",
       "    }\n",
       "\n",
       "    .dataframe tbody tr th {\n",
       "        vertical-align: top;\n",
       "    }\n",
       "\n",
       "    .dataframe thead th {\n",
       "        text-align: right;\n",
       "    }\n",
       "</style>\n",
       "<table border=\"1\" class=\"dataframe\">\n",
       "  <thead>\n",
       "    <tr style=\"text-align: right;\">\n",
       "      <th></th>\n",
       "      <th>tissue</th>\n",
       "      <th>maf</th>\n",
       "      <th>modality</th>\n",
       "      <th>gene</th>\n",
       "      <th>gene_name</th>\n",
       "      <th>n_colocs</th>\n",
       "      <th>gwas_trait</th>\n",
       "      <th>gwas_description</th>\n",
       "      <th>gwas_description_more</th>\n",
       "      <th>gwas_coding_description</th>\n",
       "    </tr>\n",
       "  </thead>\n",
       "  <tbody>\n",
       "    <tr>\n",
       "      <th>16029</th>\n",
       "      <td>Lung</td>\n",
       "      <td>1%</td>\n",
       "      <td>cissqtl</td>\n",
       "      <td>ENSG00000257017.8</td>\n",
       "      <td>HP</td>\n",
       "      <td>4</td>\n",
       "      <td>biomarkers-30690-both_sexes-irnt</td>\n",
       "      <td>Cholesterol</td>\n",
       "      <td>NaN</td>\n",
       "      <td>NaN</td>\n",
       "    </tr>\n",
       "    <tr>\n",
       "      <th>14895</th>\n",
       "      <td>Whole_blood</td>\n",
       "      <td>1%</td>\n",
       "      <td>cissqtl</td>\n",
       "      <td>ENSG00000244682.7</td>\n",
       "      <td>FCGR2C</td>\n",
       "      <td>4</td>\n",
       "      <td>continuous-AG-both_sexes-irnt</td>\n",
       "      <td>Albumin/Globulin ratio</td>\n",
       "      <td>Albumin (30600) / (Total Protein [30860] - Alb...</td>\n",
       "      <td>NaN</td>\n",
       "    </tr>\n",
       "    <tr>\n",
       "      <th>16691</th>\n",
       "      <td>Lung</td>\n",
       "      <td>1%</td>\n",
       "      <td>cissqtl</td>\n",
       "      <td>ENSG00000257017.8</td>\n",
       "      <td>HP</td>\n",
       "      <td>4</td>\n",
       "      <td>continuous-LDLC-both_sexes-medadj_irnt</td>\n",
       "      <td>LDL direct, adjusted by medication</td>\n",
       "      <td>LDLC (30780) adjusted by the use of cholestero...</td>\n",
       "      <td>NaN</td>\n",
       "    </tr>\n",
       "    <tr>\n",
       "      <th>18350</th>\n",
       "      <td>Lung</td>\n",
       "      <td>1%</td>\n",
       "      <td>cissqtl</td>\n",
       "      <td>ENSG00000257017.8</td>\n",
       "      <td>HP</td>\n",
       "      <td>4</td>\n",
       "      <td>biomarkers-30640-both_sexes-irnt</td>\n",
       "      <td>Apolipoprotein B</td>\n",
       "      <td>NaN</td>\n",
       "      <td>NaN</td>\n",
       "    </tr>\n",
       "    <tr>\n",
       "      <th>25742</th>\n",
       "      <td>Whole_blood</td>\n",
       "      <td>1%</td>\n",
       "      <td>ciseqtl</td>\n",
       "      <td>ENSG00000172216.5</td>\n",
       "      <td>CEBPB</td>\n",
       "      <td>4</td>\n",
       "      <td>continuous-30130-both_sexes-irnt</td>\n",
       "      <td>Monocyte count</td>\n",
       "      <td>Result of \"Monocytes Number\" assay, performed ...</td>\n",
       "      <td>NaN</td>\n",
       "    </tr>\n",
       "    <tr>\n",
       "      <th>...</th>\n",
       "      <td>...</td>\n",
       "      <td>...</td>\n",
       "      <td>...</td>\n",
       "      <td>...</td>\n",
       "      <td>...</td>\n",
       "      <td>...</td>\n",
       "      <td>...</td>\n",
       "      <td>...</td>\n",
       "      <td>...</td>\n",
       "      <td>...</td>\n",
       "    </tr>\n",
       "    <tr>\n",
       "      <th>14549</th>\n",
       "      <td>Whole_blood</td>\n",
       "      <td>1%</td>\n",
       "      <td>ciseqtl</td>\n",
       "      <td>ENSG00000132170.21</td>\n",
       "      <td>PPARG</td>\n",
       "      <td>1</td>\n",
       "      <td>continuous-AG-both_sexes-irnt</td>\n",
       "      <td>Albumin/Globulin ratio</td>\n",
       "      <td>Albumin (30600) / (Total Protein [30860] - Alb...</td>\n",
       "      <td>NaN</td>\n",
       "    </tr>\n",
       "    <tr>\n",
       "      <th>14550</th>\n",
       "      <td>Whole_blood</td>\n",
       "      <td>1%</td>\n",
       "      <td>ciseqtl</td>\n",
       "      <td>ENSG00000132185.16</td>\n",
       "      <td>FCRLA</td>\n",
       "      <td>1</td>\n",
       "      <td>continuous-AG-both_sexes-irnt</td>\n",
       "      <td>Albumin/Globulin ratio</td>\n",
       "      <td>Albumin (30600) / (Total Protein [30860] - Alb...</td>\n",
       "      <td>NaN</td>\n",
       "    </tr>\n",
       "    <tr>\n",
       "      <th>14551</th>\n",
       "      <td>Whole_blood</td>\n",
       "      <td>1%</td>\n",
       "      <td>ciseqtl</td>\n",
       "      <td>ENSG00000132475.10</td>\n",
       "      <td>H3F3B</td>\n",
       "      <td>1</td>\n",
       "      <td>continuous-AG-both_sexes-irnt</td>\n",
       "      <td>Albumin/Globulin ratio</td>\n",
       "      <td>Albumin (30600) / (Total Protein [30860] - Alb...</td>\n",
       "      <td>NaN</td>\n",
       "    </tr>\n",
       "    <tr>\n",
       "      <th>14552</th>\n",
       "      <td>Whole_blood</td>\n",
       "      <td>1%</td>\n",
       "      <td>ciseqtl</td>\n",
       "      <td>ENSG00000133030.21</td>\n",
       "      <td>MPRIP</td>\n",
       "      <td>1</td>\n",
       "      <td>continuous-AG-both_sexes-irnt</td>\n",
       "      <td>Albumin/Globulin ratio</td>\n",
       "      <td>Albumin (30600) / (Total Protein [30860] - Alb...</td>\n",
       "      <td>NaN</td>\n",
       "    </tr>\n",
       "    <tr>\n",
       "      <th>43433</th>\n",
       "      <td>Whole_blood</td>\n",
       "      <td>1%</td>\n",
       "      <td>cissqtl</td>\n",
       "      <td>ENSG00000240710.1</td>\n",
       "      <td>AL512306.3</td>\n",
       "      <td>1</td>\n",
       "      <td>categorical-6179-both_sexes-1</td>\n",
       "      <td>Mineral and other dietary supplements</td>\n",
       "      <td>ACE touchscreen question \"Do you regularly tak...</td>\n",
       "      <td>Fish oil (including cod liver oil)</td>\n",
       "    </tr>\n",
       "  </tbody>\n",
       "</table>\n",
       "<p>43434 rows × 10 columns</p>\n",
       "</div>"
      ],
      "text/plain": [
       "            tissue maf modality                gene   gene_name  n_colocs  \\\n",
       "16029         Lung  1%  cissqtl   ENSG00000257017.8          HP         4   \n",
       "14895  Whole_blood  1%  cissqtl   ENSG00000244682.7      FCGR2C         4   \n",
       "16691         Lung  1%  cissqtl   ENSG00000257017.8          HP         4   \n",
       "18350         Lung  1%  cissqtl   ENSG00000257017.8          HP         4   \n",
       "25742  Whole_blood  1%  ciseqtl   ENSG00000172216.5       CEBPB         4   \n",
       "...            ...  ..      ...                 ...         ...       ...   \n",
       "14549  Whole_blood  1%  ciseqtl  ENSG00000132170.21       PPARG         1   \n",
       "14550  Whole_blood  1%  ciseqtl  ENSG00000132185.16       FCRLA         1   \n",
       "14551  Whole_blood  1%  ciseqtl  ENSG00000132475.10       H3F3B         1   \n",
       "14552  Whole_blood  1%  ciseqtl  ENSG00000133030.21       MPRIP         1   \n",
       "43433  Whole_blood  1%  cissqtl   ENSG00000240710.1  AL512306.3         1   \n",
       "\n",
       "                                   gwas_trait  \\\n",
       "16029        biomarkers-30690-both_sexes-irnt   \n",
       "14895           continuous-AG-both_sexes-irnt   \n",
       "16691  continuous-LDLC-both_sexes-medadj_irnt   \n",
       "18350        biomarkers-30640-both_sexes-irnt   \n",
       "25742        continuous-30130-both_sexes-irnt   \n",
       "...                                       ...   \n",
       "14549           continuous-AG-both_sexes-irnt   \n",
       "14550           continuous-AG-both_sexes-irnt   \n",
       "14551           continuous-AG-both_sexes-irnt   \n",
       "14552           continuous-AG-both_sexes-irnt   \n",
       "43433           categorical-6179-both_sexes-1   \n",
       "\n",
       "                            gwas_description  \\\n",
       "16029                            Cholesterol   \n",
       "14895                 Albumin/Globulin ratio   \n",
       "16691     LDL direct, adjusted by medication   \n",
       "18350                       Apolipoprotein B   \n",
       "25742                         Monocyte count   \n",
       "...                                      ...   \n",
       "14549                 Albumin/Globulin ratio   \n",
       "14550                 Albumin/Globulin ratio   \n",
       "14551                 Albumin/Globulin ratio   \n",
       "14552                 Albumin/Globulin ratio   \n",
       "43433  Mineral and other dietary supplements   \n",
       "\n",
       "                                   gwas_description_more  \\\n",
       "16029                                                NaN   \n",
       "14895  Albumin (30600) / (Total Protein [30860] - Alb...   \n",
       "16691  LDLC (30780) adjusted by the use of cholestero...   \n",
       "18350                                                NaN   \n",
       "25742  Result of \"Monocytes Number\" assay, performed ...   \n",
       "...                                                  ...   \n",
       "14549  Albumin (30600) / (Total Protein [30860] - Alb...   \n",
       "14550  Albumin (30600) / (Total Protein [30860] - Alb...   \n",
       "14551  Albumin (30600) / (Total Protein [30860] - Alb...   \n",
       "14552  Albumin (30600) / (Total Protein [30860] - Alb...   \n",
       "43433  ACE touchscreen question \"Do you regularly tak...   \n",
       "\n",
       "                  gwas_coding_description  \n",
       "16029                                 NaN  \n",
       "14895                                 NaN  \n",
       "16691                                 NaN  \n",
       "18350                                 NaN  \n",
       "25742                                 NaN  \n",
       "...                                   ...  \n",
       "14549                                 NaN  \n",
       "14550                                 NaN  \n",
       "14551                                 NaN  \n",
       "14552                                 NaN  \n",
       "43433  Fish oil (including cod liver oil)  \n",
       "\n",
       "[43434 rows x 10 columns]"
      ]
     },
     "execution_count": 9,
     "metadata": {},
     "output_type": "execute_result"
    }
   ],
   "source": [
    "x = x[['xqtl_tissue', 'xqtl_maf', 'xqtl_modality', 'xqtl_gene', 'gene_name', 'n_colocs', 'gwas_trait', 'description', 'description_more', 'coding_description']]\n",
    "x = x.rename(columns=lambda y: y.replace('xqtl_', '')).rename(columns=lambda y: 'gwas_' + y if 'description' in y else y)\n",
    "x"
   ]
  },
  {
   "cell_type": "code",
   "execution_count": 10,
   "metadata": {
    "execution": {
     "iopub.execute_input": "2024-12-06T16:13:33.244855Z",
     "iopub.status.busy": "2024-12-06T16:13:33.244452Z",
     "iopub.status.idle": "2024-12-06T16:13:33.273678Z",
     "shell.execute_reply": "2024-12-06T16:13:33.273245Z"
    }
   },
   "outputs": [],
   "source": [
    "x[x.n_colocs>1].to_csv(f'tables/{PREFIX}multicolocs.csv', doublequote=True, index=False)"
   ]
  },
  {
   "cell_type": "code",
   "execution_count": 11,
   "metadata": {
    "execution": {
     "iopub.execute_input": "2024-12-06T16:13:33.276554Z",
     "iopub.status.busy": "2024-12-06T16:13:33.276250Z",
     "iopub.status.idle": "2024-12-06T16:13:33.281732Z",
     "shell.execute_reply": "2024-12-06T16:13:33.280756Z"
    }
   },
   "outputs": [
    {
     "data": {
      "text/plain": [
       "659"
      ]
     },
     "execution_count": 11,
     "metadata": {},
     "output_type": "execute_result"
    }
   ],
   "source": [
    "len(x[x.n_colocs>1])"
   ]
  },
  {
   "cell_type": "code",
   "execution_count": 12,
   "metadata": {
    "execution": {
     "iopub.execute_input": "2024-12-06T16:13:33.284467Z",
     "iopub.status.busy": "2024-12-06T16:13:33.284054Z",
     "iopub.status.idle": "2024-12-06T16:13:33.291555Z",
     "shell.execute_reply": "2024-12-06T16:13:33.290771Z"
    }
   },
   "outputs": [
    {
     "data": {
      "text/plain": [
       "659"
      ]
     },
     "execution_count": 12,
     "metadata": {},
     "output_type": "execute_result"
    }
   ],
   "source": [
    "len(x[(x.n_colocs>1) & (x.maf!='0.1%')])"
   ]
  },
  {
   "cell_type": "code",
   "execution_count": 13,
   "metadata": {
    "execution": {
     "iopub.execute_input": "2024-12-06T16:13:33.297442Z",
     "iopub.status.busy": "2024-12-06T16:13:33.296920Z",
     "iopub.status.idle": "2024-12-06T16:13:33.305170Z",
     "shell.execute_reply": "2024-12-06T16:13:33.304263Z"
    }
   },
   "outputs": [
    {
     "data": {
      "text/plain": [
       "tissue            maf  modality \n",
       "Lung              1%   ciseqtl       43\n",
       "                       cissqtl       51\n",
       "Monocyte          1%   ciseqtl       17\n",
       "                       cissqtl       10\n",
       "Nasal_epithelial  1%   ciseqtl       17\n",
       "                       cissqtl       25\n",
       "PBMC              1%   ciseqtl       43\n",
       "                       cissqtl       51\n",
       "T_cell            1%   ciseqtl        7\n",
       "                       cissqtl       16\n",
       "Whole_blood       1%   ciseqtl      186\n",
       "                       cissqtl      133\n",
       "                  5%   transeqtl     59\n",
       "                       transsqtl      1\n",
       "dtype: int64"
      ]
     },
     "execution_count": 13,
     "metadata": {},
     "output_type": "execute_result"
    }
   ],
   "source": [
    "x[x.n_colocs>1].groupby(['tissue', 'maf', 'modality']).size()"
   ]
  }
 ],
 "metadata": {
  "kernelspec": {
   "display_name": "2020-09",
   "language": "python",
   "name": "python3"
  },
  "language_info": {
   "codemirror_mode": {
    "name": "ipython",
    "version": 3
   },
   "file_extension": ".py",
   "mimetype": "text/x-python",
   "name": "python",
   "nbconvert_exporter": "python",
   "pygments_lexer": "ipython3",
   "version": "3.9.5"
  }
 },
 "nbformat": 4,
 "nbformat_minor": 2
}
