{
 "cells": [
  {
   "cell_type": "code",
   "execution_count": 1,
   "metadata": {
    "execution": {
     "iopub.execute_input": "2024-12-06T16:23:49.199574Z",
     "iopub.status.busy": "2024-12-06T16:23:49.199106Z",
     "iopub.status.idle": "2024-12-06T16:23:50.063936Z",
     "shell.execute_reply": "2024-12-06T16:23:50.063277Z"
    }
   },
   "outputs": [
    {
     "data": {
      "text/html": [
       "<div>\n",
       "<style scoped>\n",
       "    .dataframe tbody tr th:only-of-type {\n",
       "        vertical-align: middle;\n",
       "    }\n",
       "\n",
       "    .dataframe tbody tr th {\n",
       "        vertical-align: top;\n",
       "    }\n",
       "\n",
       "    .dataframe thead th {\n",
       "        text-align: right;\n",
       "    }\n",
       "</style>\n",
       "<table border=\"1\" class=\"dataframe\">\n",
       "  <thead>\n",
       "    <tr style=\"text-align: right;\">\n",
       "      <th></th>\n",
       "      <th>AFR</th>\n",
       "      <th>SAS</th>\n",
       "      <th>EAS</th>\n",
       "      <th>EUR</th>\n",
       "      <th>AMR</th>\n",
       "      <th>OCN</th>\n",
       "      <th>MES</th>\n",
       "    </tr>\n",
       "    <tr>\n",
       "      <th>NWD_ID</th>\n",
       "      <th></th>\n",
       "      <th></th>\n",
       "      <th></th>\n",
       "      <th></th>\n",
       "      <th></th>\n",
       "      <th></th>\n",
       "      <th></th>\n",
       "    </tr>\n",
       "  </thead>\n",
       "  <tbody>\n",
       "    <tr>\n",
       "      <th>HG00096</th>\n",
       "      <td>0.0000</td>\n",
       "      <td>0.0014</td>\n",
       "      <td>0.0000</td>\n",
       "      <td>0.9982</td>\n",
       "      <td>0.0004</td>\n",
       "      <td>0.0</td>\n",
       "      <td>0.0000</td>\n",
       "    </tr>\n",
       "    <tr>\n",
       "      <th>HG00097</th>\n",
       "      <td>0.0000</td>\n",
       "      <td>0.0023</td>\n",
       "      <td>0.0000</td>\n",
       "      <td>0.9977</td>\n",
       "      <td>0.0000</td>\n",
       "      <td>0.0</td>\n",
       "      <td>0.0000</td>\n",
       "    </tr>\n",
       "    <tr>\n",
       "      <th>HG00099</th>\n",
       "      <td>0.0005</td>\n",
       "      <td>0.0036</td>\n",
       "      <td>0.0000</td>\n",
       "      <td>0.9937</td>\n",
       "      <td>0.0006</td>\n",
       "      <td>0.0</td>\n",
       "      <td>0.0015</td>\n",
       "    </tr>\n",
       "    <tr>\n",
       "      <th>HG00100</th>\n",
       "      <td>0.0002</td>\n",
       "      <td>0.0045</td>\n",
       "      <td>0.0000</td>\n",
       "      <td>0.9935</td>\n",
       "      <td>0.0004</td>\n",
       "      <td>0.0</td>\n",
       "      <td>0.0014</td>\n",
       "    </tr>\n",
       "    <tr>\n",
       "      <th>HG00101</th>\n",
       "      <td>0.0009</td>\n",
       "      <td>0.0000</td>\n",
       "      <td>0.0005</td>\n",
       "      <td>0.9979</td>\n",
       "      <td>0.0000</td>\n",
       "      <td>0.0</td>\n",
       "      <td>0.0008</td>\n",
       "    </tr>\n",
       "  </tbody>\n",
       "</table>\n",
       "</div>"
      ],
      "text/plain": [
       "            AFR     SAS     EAS     EUR     AMR  OCN     MES\n",
       "NWD_ID                                                      \n",
       "HG00096  0.0000  0.0014  0.0000  0.9982  0.0004  0.0  0.0000\n",
       "HG00097  0.0000  0.0023  0.0000  0.9977  0.0000  0.0  0.0000\n",
       "HG00099  0.0005  0.0036  0.0000  0.9937  0.0006  0.0  0.0015\n",
       "HG00100  0.0002  0.0045  0.0000  0.9935  0.0004  0.0  0.0014\n",
       "HG00101  0.0009  0.0000  0.0005  0.9979  0.0000  0.0  0.0008"
      ]
     },
     "execution_count": 1,
     "metadata": {},
     "output_type": "execute_result"
    }
   ],
   "source": [
    "import pandas as pd\n",
    "\n",
    "PREFIX = 'sample-ancestry-assignment.'\n",
    "METADATA = '../data/metadata/metadata.tm.txt'\n",
    "ANCESTRY = '../data/ancestry/ancestries.txt'\n",
    "\n",
    "metadata = pd.read_csv(METADATA, sep='\\t', index_col=None)\n",
    "ancestry = pd.read_csv(ANCESTRY, sep='\\t', index_col=0)\n",
    "ancestry.head()"
   ]
  },
  {
   "cell_type": "code",
   "execution_count": 2,
   "metadata": {
    "execution": {
     "iopub.execute_input": "2024-12-06T16:23:50.096914Z",
     "iopub.status.busy": "2024-12-06T16:23:50.096128Z",
     "iopub.status.idle": "2024-12-06T16:23:51.002990Z",
     "shell.execute_reply": "2024-12-06T16:23:51.001715Z"
    }
   },
   "outputs": [],
   "source": [
    "metadata = metadata[metadata.used_for_scan]\n",
    "sample_ancestries = ancestry.loc[metadata.wgs.unique(),:]\n",
    "sample_ancestries['assignment'] = sample_ancestries.apply(lambda x: x.idxmax() if ((x.idxmax() == 'AMR' and x.max() >= 0.50) or (x.max() >= 0.75)) else 'unassigned', axis=1)\n",
    "wgs_to_ancestry = dict(zip(sample_ancestries.index, sample_ancestries.assignment))\n"
   ]
  },
  {
   "cell_type": "code",
   "execution_count": 3,
   "metadata": {
    "execution": {
     "iopub.execute_input": "2024-12-06T16:23:51.008695Z",
     "iopub.status.busy": "2024-12-06T16:23:51.007801Z",
     "iopub.status.idle": "2024-12-06T16:23:51.015518Z",
     "shell.execute_reply": "2024-12-06T16:23:51.015051Z"
    }
   },
   "outputs": [],
   "source": [
    "eqtl_samples = metadata.copy()\n",
    "eqtl_samples['ancestry_assignment'] = eqtl_samples.wgs.map(wgs_to_ancestry)"
   ]
  },
  {
   "cell_type": "code",
   "execution_count": 4,
   "metadata": {
    "execution": {
     "iopub.execute_input": "2024-12-06T16:23:51.017647Z",
     "iopub.status.busy": "2024-12-06T16:23:51.017402Z",
     "iopub.status.idle": "2024-12-06T16:23:51.026629Z",
     "shell.execute_reply": "2024-12-06T16:23:51.026053Z"
    }
   },
   "outputs": [
    {
     "data": {
      "text/html": [
       "<div>\n",
       "<style scoped>\n",
       "    .dataframe tbody tr th:only-of-type {\n",
       "        vertical-align: middle;\n",
       "    }\n",
       "\n",
       "    .dataframe tbody tr th {\n",
       "        vertical-align: top;\n",
       "    }\n",
       "\n",
       "    .dataframe thead th {\n",
       "        text-align: right;\n",
       "    }\n",
       "</style>\n",
       "<table border=\"1\" class=\"dataframe\">\n",
       "  <thead>\n",
       "    <tr style=\"text-align: right;\">\n",
       "      <th></th>\n",
       "      <th>cohort</th>\n",
       "      <th>sequencing_center</th>\n",
       "      <th>tor</th>\n",
       "      <th>tissue</th>\n",
       "      <th>inferred_sex</th>\n",
       "      <th>wgs</th>\n",
       "      <th>used_for_scan</th>\n",
       "      <th>ancestry_assignment</th>\n",
       "    </tr>\n",
       "  </thead>\n",
       "  <tbody>\n",
       "    <tr>\n",
       "      <th>0</th>\n",
       "      <td>MESA</td>\n",
       "      <td>uw</td>\n",
       "      <td>TOR379757</td>\n",
       "      <td>PBMC</td>\n",
       "      <td>male</td>\n",
       "      <td>NWD331470</td>\n",
       "      <td>True</td>\n",
       "      <td>AMR</td>\n",
       "    </tr>\n",
       "    <tr>\n",
       "      <th>1</th>\n",
       "      <td>MESA</td>\n",
       "      <td>uw</td>\n",
       "      <td>TOR241007</td>\n",
       "      <td>Monocyte</td>\n",
       "      <td>male</td>\n",
       "      <td>NWD331470</td>\n",
       "      <td>True</td>\n",
       "      <td>AMR</td>\n",
       "    </tr>\n",
       "    <tr>\n",
       "      <th>2</th>\n",
       "      <td>MESA</td>\n",
       "      <td>uw</td>\n",
       "      <td>TOR461526</td>\n",
       "      <td>T_cell</td>\n",
       "      <td>male</td>\n",
       "      <td>NWD331470</td>\n",
       "      <td>True</td>\n",
       "      <td>AMR</td>\n",
       "    </tr>\n",
       "    <tr>\n",
       "      <th>3</th>\n",
       "      <td>MESA</td>\n",
       "      <td>uw</td>\n",
       "      <td>TOR882863</td>\n",
       "      <td>PBMC</td>\n",
       "      <td>male</td>\n",
       "      <td>NWD133576</td>\n",
       "      <td>True</td>\n",
       "      <td>EUR</td>\n",
       "    </tr>\n",
       "    <tr>\n",
       "      <th>5</th>\n",
       "      <td>MESA</td>\n",
       "      <td>broad</td>\n",
       "      <td>TOR811735</td>\n",
       "      <td>PBMC</td>\n",
       "      <td>female</td>\n",
       "      <td>NWD302101</td>\n",
       "      <td>True</td>\n",
       "      <td>EUR</td>\n",
       "    </tr>\n",
       "  </tbody>\n",
       "</table>\n",
       "</div>"
      ],
      "text/plain": [
       "  cohort sequencing_center        tor    tissue inferred_sex        wgs  \\\n",
       "0   MESA                uw  TOR379757      PBMC         male  NWD331470   \n",
       "1   MESA                uw  TOR241007  Monocyte         male  NWD331470   \n",
       "2   MESA                uw  TOR461526    T_cell         male  NWD331470   \n",
       "3   MESA                uw  TOR882863      PBMC         male  NWD133576   \n",
       "5   MESA             broad  TOR811735      PBMC       female  NWD302101   \n",
       "\n",
       "   used_for_scan ancestry_assignment  \n",
       "0           True                 AMR  \n",
       "1           True                 AMR  \n",
       "2           True                 AMR  \n",
       "3           True                 EUR  \n",
       "5           True                 EUR  "
      ]
     },
     "execution_count": 4,
     "metadata": {},
     "output_type": "execute_result"
    }
   ],
   "source": [
    "eqtl_samples.head()"
   ]
  },
  {
   "cell_type": "code",
   "execution_count": 5,
   "metadata": {
    "execution": {
     "iopub.execute_input": "2024-12-06T16:23:51.029224Z",
     "iopub.status.busy": "2024-12-06T16:23:51.028775Z",
     "iopub.status.idle": "2024-12-06T16:23:51.054592Z",
     "shell.execute_reply": "2024-12-06T16:23:51.053920Z"
    }
   },
   "outputs": [],
   "source": [
    "eqtl_samples[['tissue', 'tor', 'wgs', 'ancestry_assignment']].to_csv(f'tables/{PREFIX}tsv', sep='\\t', index=False)"
   ]
  },
  {
   "cell_type": "code",
   "execution_count": 6,
   "metadata": {
    "execution": {
     "iopub.execute_input": "2024-12-06T16:23:51.058899Z",
     "iopub.status.busy": "2024-12-06T16:23:51.058543Z",
     "iopub.status.idle": "2024-12-06T16:23:51.066698Z",
     "shell.execute_reply": "2024-12-06T16:23:51.066244Z"
    }
   },
   "outputs": [],
   "source": [
    "ancestry_analysis_sample_sizes = eqtl_samples.groupby(['tissue', 'ancestry_assignment']).size().rename('n').reset_index()\n",
    "ancestry_analysis_sample_sizes.to_csv(f'tables/{PREFIX}counts-per-tissue-per-ancestry.csv', index=False)"
   ]
  },
  {
   "cell_type": "code",
   "execution_count": null,
   "metadata": {},
   "outputs": [],
   "source": []
  }
 ],
 "metadata": {
  "kernelspec": {
   "display_name": "2020-09",
   "language": "python",
   "name": "python3"
  },
  "language_info": {
   "codemirror_mode": {
    "name": "ipython",
    "version": 3
   },
   "file_extension": ".py",
   "mimetype": "text/x-python",
   "name": "python",
   "nbconvert_exporter": "python",
   "pygments_lexer": "ipython3",
   "version": "3.9.5"
  }
 },
 "nbformat": 4,
 "nbformat_minor": 2
}
