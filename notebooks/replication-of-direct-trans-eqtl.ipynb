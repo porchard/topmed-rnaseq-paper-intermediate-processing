{
 "cells": [
  {
   "cell_type": "code",
   "execution_count": 1,
   "metadata": {
    "execution": {
     "iopub.execute_input": "2024-12-05T22:24:46.696084Z",
     "iopub.status.busy": "2024-12-05T22:24:46.695668Z",
     "iopub.status.idle": "2024-12-05T22:24:54.509925Z",
     "shell.execute_reply": "2024-12-05T22:24:54.510234Z"
    }
   },
   "outputs": [
    {
     "data": {
      "text/html": [
       "<div>\n",
       "<style scoped>\n",
       "    .dataframe tbody tr th:only-of-type {\n",
       "        vertical-align: middle;\n",
       "    }\n",
       "\n",
       "    .dataframe tbody tr th {\n",
       "        vertical-align: top;\n",
       "    }\n",
       "\n",
       "    .dataframe thead th {\n",
       "        text-align: right;\n",
       "    }\n",
       "</style>\n",
       "<table border=\"1\" class=\"dataframe\">\n",
       "  <thead>\n",
       "    <tr style=\"text-align: right;\">\n",
       "      <th></th>\n",
       "      <th>#chrom</th>\n",
       "      <th>start</th>\n",
       "      <th>end</th>\n",
       "      <th>GeneID</th>\n",
       "      <th>Phenotype</th>\n",
       "      <th>SNPid</th>\n",
       "      <th>MAF</th>\n",
       "      <th>Nominal_Pval</th>\n",
       "      <th>Coeff</th>\n",
       "      <th>AdjustedPval</th>\n",
       "      <th>DiscoveryOrder</th>\n",
       "    </tr>\n",
       "  </thead>\n",
       "  <tbody>\n",
       "    <tr>\n",
       "      <th>0</th>\n",
       "      <td>chr1</td>\n",
       "      <td>3385156</td>\n",
       "      <td>3385157</td>\n",
       "      <td>ENSG00000070214</td>\n",
       "      <td>ENSG00000070214.11_1:3301721:C:T</td>\n",
       "      <td>chr1_3385157_C_T</td>\n",
       "      <td>0.291074</td>\n",
       "      <td>1.895870e-07</td>\n",
       "      <td>0.094479</td>\n",
       "      <td>0.000100</td>\n",
       "      <td>1</td>\n",
       "    </tr>\n",
       "    <tr>\n",
       "      <th>1</th>\n",
       "      <td>chr1</td>\n",
       "      <td>5621884</td>\n",
       "      <td>5621885</td>\n",
       "      <td>ENSG00000100918</td>\n",
       "      <td>ENSG00000100918.8_1:5681945:T:C</td>\n",
       "      <td>chr1_5621885_T_C</td>\n",
       "      <td>0.079922</td>\n",
       "      <td>9.364450e-14</td>\n",
       "      <td>-0.134795</td>\n",
       "      <td>0.000006</td>\n",
       "      <td>1</td>\n",
       "    </tr>\n",
       "    <tr>\n",
       "      <th>2</th>\n",
       "      <td>chr1</td>\n",
       "      <td>5621884</td>\n",
       "      <td>5621885</td>\n",
       "      <td>ENSG00000232117</td>\n",
       "      <td>ENSG00000232117.1_1:5681945:T:C</td>\n",
       "      <td>chr1_5621885_T_C</td>\n",
       "      <td>0.079922</td>\n",
       "      <td>5.273810e-09</td>\n",
       "      <td>-0.105826</td>\n",
       "      <td>0.008501</td>\n",
       "      <td>1</td>\n",
       "    </tr>\n",
       "    <tr>\n",
       "      <th>3</th>\n",
       "      <td>chr1</td>\n",
       "      <td>14539167</td>\n",
       "      <td>14539168</td>\n",
       "      <td>ENSG00000108798</td>\n",
       "      <td>ENSG00000108798.4_1:14865664:G:C</td>\n",
       "      <td>chr1_14539168_G_C</td>\n",
       "      <td>0.193130</td>\n",
       "      <td>6.470570e-09</td>\n",
       "      <td>-0.105210</td>\n",
       "      <td>0.010294</td>\n",
       "      <td>1</td>\n",
       "    </tr>\n",
       "    <tr>\n",
       "      <th>4</th>\n",
       "      <td>chr1</td>\n",
       "      <td>14743606</td>\n",
       "      <td>14743607</td>\n",
       "      <td>ENSG00000196083</td>\n",
       "      <td>ENSG00000196083.5_1:15070103:C:T</td>\n",
       "      <td>chr1_14743607_C_T</td>\n",
       "      <td>0.030874</td>\n",
       "      <td>1.289450e-08</td>\n",
       "      <td>-0.103107</td>\n",
       "      <td>0.007099</td>\n",
       "      <td>1</td>\n",
       "    </tr>\n",
       "  </tbody>\n",
       "</table>\n",
       "</div>"
      ],
      "text/plain": [
       "  #chrom     start       end           GeneID  \\\n",
       "0   chr1   3385156   3385157  ENSG00000070214   \n",
       "1   chr1   5621884   5621885  ENSG00000100918   \n",
       "2   chr1   5621884   5621885  ENSG00000232117   \n",
       "3   chr1  14539167  14539168  ENSG00000108798   \n",
       "4   chr1  14743606  14743607  ENSG00000196083   \n",
       "\n",
       "                          Phenotype              SNPid       MAF  \\\n",
       "0  ENSG00000070214.11_1:3301721:C:T   chr1_3385157_C_T  0.291074   \n",
       "1   ENSG00000100918.8_1:5681945:T:C   chr1_5621885_T_C  0.079922   \n",
       "2   ENSG00000232117.1_1:5681945:T:C   chr1_5621885_T_C  0.079922   \n",
       "3  ENSG00000108798.4_1:14865664:G:C  chr1_14539168_G_C  0.193130   \n",
       "4  ENSG00000196083.5_1:15070103:C:T  chr1_14743607_C_T  0.030874   \n",
       "\n",
       "   Nominal_Pval     Coeff  AdjustedPval  DiscoveryOrder  \n",
       "0  1.895870e-07  0.094479      0.000100               1  \n",
       "1  9.364450e-14 -0.134795      0.000006               1  \n",
       "2  5.273810e-09 -0.105826      0.008501               1  \n",
       "3  6.470570e-09 -0.105210      0.010294               1  \n",
       "4  1.289450e-08 -0.103107      0.007099               1  "
      ]
     },
     "execution_count": 1,
     "metadata": {},
     "output_type": "execute_result"
    }
   ],
   "source": [
    "import pandas as pd\n",
    "import numpy as np\n",
    "import topmed_genotypes as tg\n",
    "import matplotlib.pyplot as plt\n",
    "import seaborn as sns\n",
    "from plutils import figures\n",
    "import tempfile\n",
    "import subprocess\n",
    "\n",
    "USE_CLUMPED = False # TODO: if use clumped, should also adjust slope if that's relevant\n",
    "\n",
    "PREFIX = 'replication-of-direct-trans-eqtl.'\n",
    "\n",
    "def distance_between_variants(variant_1, variant_2):\n",
    "    if pd.isnull(variant_1) or pd.isnull(variant_2):\n",
    "        return np.NaN\n",
    "    variant_1_chrom, variant_1_pos = variant_1.split('_')[:2]\n",
    "    variant_2_chrom, variant_2_pos = variant_2.split('_')[:2]\n",
    "    if variant_1_chrom != variant_2_chrom:\n",
    "        return np.NaN\n",
    "    else:\n",
    "        return abs(int(variant_1_pos) - int(variant_2_pos))\n",
    "\n",
    "\n",
    "def pi0est(pv):\n",
    "    with tempfile.NamedTemporaryFile(mode='w', delete=False) as f:\n",
    "        TMP_FILE = f.name\n",
    "        for p in pv:\n",
    "            f.write(f'{p}\\n')\n",
    "        f.close()\n",
    "        cmd = ['Rscript', '-e', f'library(qvalue); tmp = read.table(\"{TMP_FILE}\", head=F)$V1; pi0est(tmp)$pi0']\n",
    "        sp = subprocess.run(cmd, capture_output=True, check=True)\n",
    "    return float(sp.stdout.decode().replace('[1] ', '').rstrip())\n",
    "\n",
    "def pi1est(pv):\n",
    "    return 1 - pi0est(pv)\n",
    "\n",
    "DIRECT_TRANS_SIGNIFICANT = '/net/topmed11/working/porchard/direct-preprocessing/work/lift-and-tabix/trans-significant/results/tabixed/direct.txt.gz'\n",
    "direct_significant = pd.read_csv(DIRECT_TRANS_SIGNIFICANT, sep='\\t')\n",
    "direct_significant.GeneID = direct_significant.GeneID.str.split('.', expand=True)[0]\n",
    "direct_significant.head()"
   ]
  },
  {
   "cell_type": "code",
   "execution_count": 2,
   "metadata": {
    "execution": {
     "iopub.execute_input": "2024-12-05T22:24:54.515764Z",
     "iopub.status.busy": "2024-12-05T22:24:54.515405Z",
     "iopub.status.idle": "2024-12-05T22:24:54.549139Z",
     "shell.execute_reply": "2024-12-05T22:24:54.549688Z"
    }
   },
   "outputs": [
    {
     "name": "stdout",
     "output_type": "stream",
     "text": [
      "1860\n",
      "1860\n"
     ]
    },
    {
     "data": {
      "text/html": [
       "<div>\n",
       "<style scoped>\n",
       "    .dataframe tbody tr th:only-of-type {\n",
       "        vertical-align: middle;\n",
       "    }\n",
       "\n",
       "    .dataframe tbody tr th {\n",
       "        vertical-align: top;\n",
       "    }\n",
       "\n",
       "    .dataframe thead th {\n",
       "        text-align: right;\n",
       "    }\n",
       "</style>\n",
       "<table border=\"1\" class=\"dataframe\">\n",
       "  <thead>\n",
       "    <tr style=\"text-align: right;\">\n",
       "      <th></th>\n",
       "      <th>variant_id</th>\n",
       "      <th>gene_id</th>\n",
       "      <th>topmed_slope</th>\n",
       "      <th>topmed_p</th>\n",
       "      <th>Nominal_Pval</th>\n",
       "      <th>Coeff</th>\n",
       "      <th>DiscoveryOrder</th>\n",
       "    </tr>\n",
       "  </thead>\n",
       "  <tbody>\n",
       "    <tr>\n",
       "      <th>0</th>\n",
       "      <td>chr1_3385157_C_T</td>\n",
       "      <td>ENSG00000070214</td>\n",
       "      <td>-0.020787</td>\n",
       "      <td>0.328331</td>\n",
       "      <td>1.895870e-07</td>\n",
       "      <td>0.094479</td>\n",
       "      <td>1</td>\n",
       "    </tr>\n",
       "    <tr>\n",
       "      <th>1</th>\n",
       "      <td>chr1_5621885_T_C</td>\n",
       "      <td>ENSG00000100918</td>\n",
       "      <td>-0.003761</td>\n",
       "      <td>0.945841</td>\n",
       "      <td>9.364450e-14</td>\n",
       "      <td>-0.134795</td>\n",
       "      <td>1</td>\n",
       "    </tr>\n",
       "    <tr>\n",
       "      <th>2</th>\n",
       "      <td>chr1_14539168_G_C</td>\n",
       "      <td>ENSG00000108798</td>\n",
       "      <td>-0.021398</td>\n",
       "      <td>0.319433</td>\n",
       "      <td>6.470570e-09</td>\n",
       "      <td>-0.105210</td>\n",
       "      <td>1</td>\n",
       "    </tr>\n",
       "    <tr>\n",
       "      <th>3</th>\n",
       "      <td>chr1_14743607_C_T</td>\n",
       "      <td>ENSG00000196083</td>\n",
       "      <td>0.016127</td>\n",
       "      <td>0.741841</td>\n",
       "      <td>1.289450e-08</td>\n",
       "      <td>-0.103107</td>\n",
       "      <td>1</td>\n",
       "    </tr>\n",
       "    <tr>\n",
       "      <th>4</th>\n",
       "      <td>chr1_19935537_A_G</td>\n",
       "      <td>ENSG00000114455</td>\n",
       "      <td>-0.038926</td>\n",
       "      <td>0.394466</td>\n",
       "      <td>1.126560e-08</td>\n",
       "      <td>-0.103522</td>\n",
       "      <td>1</td>\n",
       "    </tr>\n",
       "  </tbody>\n",
       "</table>\n",
       "</div>"
      ],
      "text/plain": [
       "          variant_id          gene_id  topmed_slope  topmed_p  Nominal_Pval  \\\n",
       "0   chr1_3385157_C_T  ENSG00000070214     -0.020787  0.328331  1.895870e-07   \n",
       "1   chr1_5621885_T_C  ENSG00000100918     -0.003761  0.945841  9.364450e-14   \n",
       "2  chr1_14539168_G_C  ENSG00000108798     -0.021398  0.319433  6.470570e-09   \n",
       "3  chr1_14743607_C_T  ENSG00000196083      0.016127  0.741841  1.289450e-08   \n",
       "4  chr1_19935537_A_G  ENSG00000114455     -0.038926  0.394466  1.126560e-08   \n",
       "\n",
       "      Coeff  DiscoveryOrder  \n",
       "0  0.094479               1  \n",
       "1 -0.134795               1  \n",
       "2 -0.105210               1  \n",
       "3 -0.103107               1  \n",
       "4 -0.103522               1  "
      ]
     },
     "execution_count": 1,
     "metadata": {},
     "output_type": "execute_result"
    }
   ],
   "source": [
    "replicated_in_topmed = pd.read_csv('../work/replicate-trans/direct/results/replicated/results.txt', sep='\\t')\n",
    "print(len(replicated_in_topmed))\n",
    "replicated_in_topmed = replicated_in_topmed.rename(columns={'slope': 'topmed_slope', 'p': 'topmed_p'}).merge(direct_significant[['GeneID', 'SNPid', 'Nominal_Pval', 'Coeff', 'DiscoveryOrder']].rename(columns={'GeneID': 'gene_id', 'SNPid': 'variant_id'}))\n",
    "print(len(replicated_in_topmed))\n",
    "replicated_in_topmed.head()"
   ]
  },
  {
   "cell_type": "code",
   "execution_count": 3,
   "metadata": {
    "execution": {
     "iopub.execute_input": "2024-12-05T22:24:54.568652Z",
     "iopub.status.busy": "2024-12-05T22:24:54.568292Z",
     "iopub.status.idle": "2024-12-05T22:24:54.966323Z",
     "shell.execute_reply": "2024-12-05T22:24:54.965897Z"
    }
   },
   "outputs": [
    {
     "data": {
      "image/png": "[encoded data removed]",
      "text/plain": [
       "<Figure size 432x288 with 1 Axes>"
      ]
     },
     "metadata": {
      "needs_background": "light"
     },
     "output_type": "display_data"
    }
   ],
   "source": [
    "fig, ax = plt.subplots()\n",
    "\n",
    "df = replicated_in_topmed[replicated_in_topmed.DiscoveryOrder==1]\n",
    "#df = replicated_in_topmed\n",
    "ql = figures.make_quadrant_labels(df.Coeff, df.topmed_slope)\n",
    "sns.scatterplot(x='Coeff', y='topmed_slope', ax=ax, data=df, alpha=0.1)\n",
    "figures.plot_quadrant_labels(ql, ax)\n",
    "ax.axvline(0, ls='--', color='black')\n",
    "ax.axhline(0, ls='--', color='black')\n",
    "ax.set_xlabel('DIRECT slope')\n",
    "ax.set_ylabel('TOPMed slope')\n",
    "ax.set_title('{:,} primary DIRECT trans-eQTLs\\nDirectionality concordance = {}%'.format(len(df), round(100*(np.sign(df.Coeff) == np.sign(df.topmed_slope)).mean(), 1)))\n",
    "\n",
    "fig.tight_layout()\n",
    "fig.savefig(f'{PREFIX}replication-in-topmed.png', dpi=300, facecolor='white', bbox_inches='tight')"
   ]
  },
  {
   "cell_type": "code",
   "execution_count": 4,
   "metadata": {
    "execution": {
     "iopub.execute_input": "2024-12-05T22:24:54.981654Z",
     "iopub.status.busy": "2024-12-05T22:24:54.981257Z",
     "iopub.status.idle": "2024-12-05T22:24:56.235279Z",
     "shell.execute_reply": "2024-12-05T22:24:56.236091Z"
    }
   },
   "outputs": [
    {
     "data": {
      "image/png": "[encoded data removed]",
      "text/plain": [
       "<Figure size 432x288 with 1 Axes>"
      ]
     },
     "metadata": {
      "needs_background": "light"
     },
     "output_type": "display_data"
    }
   ],
   "source": [
    "fig, ax = plt.subplots()\n",
    "\n",
    "replicated_in_topmed.topmed_p.hist(ax=ax)\n",
    "ax.set_title('DIRECT top hits in TOPMed\\n$\\pi_1$ = {}'.format(round(pi1est(replicated_in_topmed.topmed_p.to_list()), 3)))\n",
    "ax.set_xlabel('TOPMed nominal p-value')\n",
    "\n",
    "fig.tight_layout()\n",
    "fig.savefig(f'{PREFIX}replication-in-topmed.pi1.png', dpi=300, facecolor='white', bbox_inches='tight')\n"
   ]
  },
  {
   "cell_type": "code",
   "execution_count": 5,
   "metadata": {
    "execution": {
     "iopub.execute_input": "2024-12-05T22:24:56.239210Z",
     "iopub.status.busy": "2024-12-05T22:24:56.238839Z",
     "iopub.status.idle": "2024-12-05T22:24:56.242376Z",
     "shell.execute_reply": "2024-12-05T22:24:56.241422Z"
    }
   },
   "outputs": [],
   "source": [
    "# using those with same direction of effect\n",
    "# fig, ax = plt.subplots()\n",
    "\n",
    "# replicated_in_topmed[np.sign(replicated_in_topmed.topmed_slope)==np.sign(replicated_in_topmed.Coeff)].topmed_p.hist(ax=ax)\n",
    "# ax.set_title('DIRECT top hits in TOPMed\\n$\\pi_1$ = {}'.format(round(pi1est(replicated_in_topmed[np.sign(replicated_in_topmed.topmed_slope)==np.sign(replicated_in_topmed.Coeff)].topmed_p.to_list()), 3)))\n",
    "# ax.set_xlabel('TOPMed nominal p-value')\n",
    "\n",
    "# fig.tight_layout()"
   ]
  },
  {
   "cell_type": "code",
   "execution_count": 6,
   "metadata": {
    "execution": {
     "iopub.execute_input": "2024-12-05T22:24:56.252406Z",
     "iopub.status.busy": "2024-12-05T22:24:56.252023Z",
     "iopub.status.idle": "2024-12-05T22:24:56.255249Z",
     "shell.execute_reply": "2024-12-05T22:24:56.254793Z"
    }
   },
   "outputs": [
    {
     "data": {
      "text/html": [
       "<div>\n",
       "<style scoped>\n",
       "    .dataframe tbody tr th:only-of-type {\n",
       "        vertical-align: middle;\n",
       "    }\n",
       "\n",
       "    .dataframe tbody tr th {\n",
       "        vertical-align: top;\n",
       "    }\n",
       "\n",
       "    .dataframe thead th {\n",
       "        text-align: right;\n",
       "    }\n",
       "</style>\n",
       "<table border=\"1\" class=\"dataframe\">\n",
       "  <thead>\n",
       "    <tr style=\"text-align: right;\">\n",
       "      <th></th>\n",
       "      <th>variant_id</th>\n",
       "      <th>gene_id</th>\n",
       "      <th>topmed_slope</th>\n",
       "      <th>topmed_p</th>\n",
       "      <th>Nominal_Pval</th>\n",
       "      <th>Coeff</th>\n",
       "      <th>DiscoveryOrder</th>\n",
       "    </tr>\n",
       "  </thead>\n",
       "  <tbody>\n",
       "    <tr>\n",
       "      <th>0</th>\n",
       "      <td>chr1_3385157_C_T</td>\n",
       "      <td>ENSG00000070214</td>\n",
       "      <td>-0.020787</td>\n",
       "      <td>0.328331</td>\n",
       "      <td>1.895870e-07</td>\n",
       "      <td>0.094479</td>\n",
       "      <td>1</td>\n",
       "    </tr>\n",
       "    <tr>\n",
       "      <th>1</th>\n",
       "      <td>chr1_5621885_T_C</td>\n",
       "      <td>ENSG00000100918</td>\n",
       "      <td>-0.003761</td>\n",
       "      <td>0.945841</td>\n",
       "      <td>9.364450e-14</td>\n",
       "      <td>-0.134795</td>\n",
       "      <td>1</td>\n",
       "    </tr>\n",
       "    <tr>\n",
       "      <th>2</th>\n",
       "      <td>chr1_14539168_G_C</td>\n",
       "      <td>ENSG00000108798</td>\n",
       "      <td>-0.021398</td>\n",
       "      <td>0.319433</td>\n",
       "      <td>6.470570e-09</td>\n",
       "      <td>-0.105210</td>\n",
       "      <td>1</td>\n",
       "    </tr>\n",
       "    <tr>\n",
       "      <th>3</th>\n",
       "      <td>chr1_14743607_C_T</td>\n",
       "      <td>ENSG00000196083</td>\n",
       "      <td>0.016127</td>\n",
       "      <td>0.741841</td>\n",
       "      <td>1.289450e-08</td>\n",
       "      <td>-0.103107</td>\n",
       "      <td>1</td>\n",
       "    </tr>\n",
       "    <tr>\n",
       "      <th>4</th>\n",
       "      <td>chr1_19935537_A_G</td>\n",
       "      <td>ENSG00000114455</td>\n",
       "      <td>-0.038926</td>\n",
       "      <td>0.394466</td>\n",
       "      <td>1.126560e-08</td>\n",
       "      <td>-0.103522</td>\n",
       "      <td>1</td>\n",
       "    </tr>\n",
       "  </tbody>\n",
       "</table>\n",
       "</div>"
      ],
      "text/plain": [
       "          variant_id          gene_id  topmed_slope  topmed_p  Nominal_Pval  \\\n",
       "0   chr1_3385157_C_T  ENSG00000070214     -0.020787  0.328331  1.895870e-07   \n",
       "1   chr1_5621885_T_C  ENSG00000100918     -0.003761  0.945841  9.364450e-14   \n",
       "2  chr1_14539168_G_C  ENSG00000108798     -0.021398  0.319433  6.470570e-09   \n",
       "3  chr1_14743607_C_T  ENSG00000196083      0.016127  0.741841  1.289450e-08   \n",
       "4  chr1_19935537_A_G  ENSG00000114455     -0.038926  0.394466  1.126560e-08   \n",
       "\n",
       "      Coeff  DiscoveryOrder  \n",
       "0  0.094479               1  \n",
       "1 -0.134795               1  \n",
       "2 -0.105210               1  \n",
       "3 -0.103107               1  \n",
       "4 -0.103522               1  "
      ]
     },
     "execution_count": 1,
     "metadata": {},
     "output_type": "execute_result"
    }
   ],
   "source": [
    "replicated_in_topmed.head()"
   ]
  },
  {
   "cell_type": "code",
   "execution_count": 7,
   "metadata": {
    "execution": {
     "iopub.execute_input": "2024-12-05T22:24:56.259410Z",
     "iopub.status.busy": "2024-12-05T22:24:56.258782Z",
     "iopub.status.idle": "2024-12-05T22:24:58.980900Z",
     "shell.execute_reply": "2024-12-05T22:24:58.981826Z"
    }
   },
   "outputs": [
    {
     "data": {
      "text/html": [
       "<div>\n",
       "<style scoped>\n",
       "    .dataframe tbody tr th:only-of-type {\n",
       "        vertical-align: middle;\n",
       "    }\n",
       "\n",
       "    .dataframe tbody tr th {\n",
       "        vertical-align: top;\n",
       "    }\n",
       "\n",
       "    .dataframe thead th {\n",
       "        text-align: right;\n",
       "    }\n",
       "</style>\n",
       "<table border=\"1\" class=\"dataframe\">\n",
       "  <thead>\n",
       "    <tr style=\"text-align: right;\">\n",
       "      <th></th>\n",
       "      <th>#chrom</th>\n",
       "      <th>start</th>\n",
       "      <th>end</th>\n",
       "      <th>GeneID</th>\n",
       "      <th>SNPid</th>\n",
       "      <th>MAF</th>\n",
       "      <th>Pvalue</th>\n",
       "      <th>Slope</th>\n",
       "      <th>SE</th>\n",
       "      <th>AdjustedPvalue</th>\n",
       "    </tr>\n",
       "  </thead>\n",
       "  <tbody>\n",
       "    <tr>\n",
       "      <th>0</th>\n",
       "      <td>chr1</td>\n",
       "      <td>47158</td>\n",
       "      <td>47159</td>\n",
       "      <td>ENSG00000196754</td>\n",
       "      <td>chr1_47159_T_C</td>\n",
       "      <td>0.036466</td>\n",
       "      <td>0.000002</td>\n",
       "      <td>-0.085611</td>\n",
       "      <td>0.211527</td>\n",
       "      <td>0.959949</td>\n",
       "    </tr>\n",
       "    <tr>\n",
       "      <th>1</th>\n",
       "      <td>chr1</td>\n",
       "      <td>99686</td>\n",
       "      <td>99687</td>\n",
       "      <td>ENSG00000222046</td>\n",
       "      <td>chr1_99687_C_T</td>\n",
       "      <td>0.017912</td>\n",
       "      <td>0.000004</td>\n",
       "      <td>0.084086</td>\n",
       "      <td>0.215393</td>\n",
       "      <td>0.991436</td>\n",
       "    </tr>\n",
       "    <tr>\n",
       "      <th>2</th>\n",
       "      <td>chr1</td>\n",
       "      <td>630025</td>\n",
       "      <td>630026</td>\n",
       "      <td>ENSG00000204291</td>\n",
       "      <td>chr1_630026_C_T</td>\n",
       "      <td>0.449187</td>\n",
       "      <td>0.000003</td>\n",
       "      <td>-0.084288</td>\n",
       "      <td>0.214872</td>\n",
       "      <td>0.989094</td>\n",
       "    </tr>\n",
       "    <tr>\n",
       "      <th>3</th>\n",
       "      <td>chr1</td>\n",
       "      <td>632875</td>\n",
       "      <td>632876</td>\n",
       "      <td>ENSG00000165355</td>\n",
       "      <td>chr1_632876_C_T</td>\n",
       "      <td>0.102954</td>\n",
       "      <td>0.000005</td>\n",
       "      <td>0.083139</td>\n",
       "      <td>0.217862</td>\n",
       "      <td>0.997663</td>\n",
       "    </tr>\n",
       "    <tr>\n",
       "      <th>4</th>\n",
       "      <td>chr1</td>\n",
       "      <td>713811</td>\n",
       "      <td>713812</td>\n",
       "      <td>ENSG00000186395</td>\n",
       "      <td>chr1_713812_A_T</td>\n",
       "      <td>0.067313</td>\n",
       "      <td>0.000001</td>\n",
       "      <td>-0.087308</td>\n",
       "      <td>0.207387</td>\n",
       "      <td>0.872839</td>\n",
       "    </tr>\n",
       "  </tbody>\n",
       "</table>\n",
       "</div>"
      ],
      "text/plain": [
       "  #chrom   start     end           GeneID            SNPid       MAF  \\\n",
       "0   chr1   47158   47159  ENSG00000196754   chr1_47159_T_C  0.036466   \n",
       "1   chr1   99686   99687  ENSG00000222046   chr1_99687_C_T  0.017912   \n",
       "2   chr1  630025  630026  ENSG00000204291  chr1_630026_C_T  0.449187   \n",
       "3   chr1  632875  632876  ENSG00000165355  chr1_632876_C_T  0.102954   \n",
       "4   chr1  713811  713812  ENSG00000186395  chr1_713812_A_T  0.067313   \n",
       "\n",
       "     Pvalue     Slope        SE  AdjustedPvalue  \n",
       "0  0.000002 -0.085611  0.211527        0.959949  \n",
       "1  0.000004  0.084086  0.215393        0.991436  \n",
       "2  0.000003 -0.084288  0.214872        0.989094  \n",
       "3  0.000005  0.083139  0.217862        0.997663  \n",
       "4  0.000001 -0.087308  0.207387        0.872839  "
      ]
     },
     "execution_count": 1,
     "metadata": {},
     "output_type": "execute_result"
    }
   ],
   "source": [
    "DIRECT_TRANS_LOOSE = '/net/topmed11/working/porchard/direct-preprocessing/work/lift-and-tabix/trans-10e4/results/tabixed/direct.txt.gz'\n",
    "direct_loose = pd.read_csv(DIRECT_TRANS_LOOSE, sep='\\t')\n",
    "direct_loose.GeneID = direct_loose.GeneID.str.split('.', expand=True)[0]\n",
    "direct_loose.head()"
   ]
  },
  {
   "cell_type": "code",
   "execution_count": 8,
   "metadata": {
    "execution": {
     "iopub.execute_input": "2024-12-05T22:24:58.989309Z",
     "iopub.status.busy": "2024-12-05T22:24:58.988214Z",
     "iopub.status.idle": "2024-12-05T22:24:59.044976Z",
     "shell.execute_reply": "2024-12-05T22:24:59.045837Z"
    }
   },
   "outputs": [
    {
     "data": {
      "text/plain": [
       "True     1882\n",
       "False     109\n",
       "Name: SNPid, dtype: int64"
      ]
     },
     "execution_count": 1,
     "metadata": {},
     "output_type": "execute_result"
    }
   ],
   "source": [
    "direct_significant[direct_significant.DiscoveryOrder==1].SNPid.isin(direct_loose.SNPid).value_counts()"
   ]
  },
  {
   "cell_type": "code",
   "execution_count": 9,
   "metadata": {
    "execution": {
     "iopub.execute_input": "2024-12-05T22:24:59.081816Z",
     "iopub.status.busy": "2024-12-05T22:24:59.081459Z",
     "iopub.status.idle": "2024-12-05T22:24:59.125144Z",
     "shell.execute_reply": "2024-12-05T22:24:59.125566Z"
    }
   },
   "outputs": [
    {
     "data": {
      "text/plain": [
       "14713"
      ]
     },
     "execution_count": 1,
     "metadata": {},
     "output_type": "execute_result"
    }
   ],
   "source": [
    "direct_loose.GeneID.nunique()"
   ]
  },
  {
   "cell_type": "code",
   "execution_count": 10,
   "metadata": {
    "execution": {
     "iopub.execute_input": "2024-12-05T22:24:59.129976Z",
     "iopub.status.busy": "2024-12-05T22:24:59.129387Z",
     "iopub.status.idle": "2024-12-05T22:24:59.282257Z",
     "shell.execute_reply": "2024-12-05T22:24:59.282730Z"
    }
   },
   "outputs": [
    {
     "data": {
      "text/html": [
       "<div>\n",
       "<style scoped>\n",
       "    .dataframe tbody tr th:only-of-type {\n",
       "        vertical-align: middle;\n",
       "    }\n",
       "\n",
       "    .dataframe tbody tr th {\n",
       "        vertical-align: top;\n",
       "    }\n",
       "\n",
       "    .dataframe thead th {\n",
       "        text-align: right;\n",
       "    }\n",
       "</style>\n",
       "<table border=\"1\" class=\"dataframe\">\n",
       "  <thead>\n",
       "    <tr style=\"text-align: right;\">\n",
       "      <th></th>\n",
       "      <th>start</th>\n",
       "      <th>end</th>\n",
       "      <th>MAF</th>\n",
       "      <th>Pvalue</th>\n",
       "      <th>Slope</th>\n",
       "      <th>SE</th>\n",
       "      <th>AdjustedPvalue</th>\n",
       "    </tr>\n",
       "  </thead>\n",
       "  <tbody>\n",
       "    <tr>\n",
       "      <th>count</th>\n",
       "      <td>7.526080e+05</td>\n",
       "      <td>7.526080e+05</td>\n",
       "      <td>752608.000000</td>\n",
       "      <td>7.526080e+05</td>\n",
       "      <td>752608.000000</td>\n",
       "      <td>752608.000000</td>\n",
       "      <td>752608.000000</td>\n",
       "    </tr>\n",
       "    <tr>\n",
       "      <th>mean</th>\n",
       "      <td>7.686833e+07</td>\n",
       "      <td>7.686833e+07</td>\n",
       "      <td>0.192881</td>\n",
       "      <td>4.733132e-06</td>\n",
       "      <td>-0.005358</td>\n",
       "      <td>0.212310</td>\n",
       "      <td>0.860860</td>\n",
       "    </tr>\n",
       "    <tr>\n",
       "      <th>std</th>\n",
       "      <td>5.516549e+07</td>\n",
       "      <td>5.516549e+07</td>\n",
       "      <td>0.150716</td>\n",
       "      <td>3.332227e-06</td>\n",
       "      <td>0.086911</td>\n",
       "      <td>0.018007</td>\n",
       "      <td>0.279466</td>\n",
       "    </tr>\n",
       "    <tr>\n",
       "      <th>min</th>\n",
       "      <td>1.486200e+04</td>\n",
       "      <td>1.486300e+04</td>\n",
       "      <td>0.009762</td>\n",
       "      <td>6.944380e-139</td>\n",
       "      <td>-0.433298</td>\n",
       "      <td>0.037807</td>\n",
       "      <td>0.000003</td>\n",
       "    </tr>\n",
       "    <tr>\n",
       "      <th>25%</th>\n",
       "      <td>3.260625e+07</td>\n",
       "      <td>3.260625e+07</td>\n",
       "      <td>0.051290</td>\n",
       "      <td>1.733515e-06</td>\n",
       "      <td>-0.083621</td>\n",
       "      <td>0.208695</td>\n",
       "      <td>0.908083</td>\n",
       "    </tr>\n",
       "    <tr>\n",
       "      <th>50%</th>\n",
       "      <td>6.482696e+07</td>\n",
       "      <td>6.482696e+07</td>\n",
       "      <td>0.160645</td>\n",
       "      <td>4.495565e-06</td>\n",
       "      <td>-0.080047</td>\n",
       "      <td>0.217609</td>\n",
       "      <td>0.997463</td>\n",
       "    </tr>\n",
       "    <tr>\n",
       "      <th>75%</th>\n",
       "      <td>1.106296e+08</td>\n",
       "      <td>1.106296e+08</td>\n",
       "      <td>0.318900</td>\n",
       "      <td>7.455140e-06</td>\n",
       "      <td>0.082841</td>\n",
       "      <td>0.222813</td>\n",
       "      <td>0.999920</td>\n",
       "    </tr>\n",
       "    <tr>\n",
       "      <th>max</th>\n",
       "      <td>2.489068e+08</td>\n",
       "      <td>2.489068e+08</td>\n",
       "      <td>0.500000</td>\n",
       "      <td>1.145150e-05</td>\n",
       "      <td>0.408041</td>\n",
       "      <td>0.227525</td>\n",
       "      <td>0.999997</td>\n",
       "    </tr>\n",
       "  </tbody>\n",
       "</table>\n",
       "</div>"
      ],
      "text/plain": [
       "              start           end            MAF         Pvalue  \\\n",
       "count  7.526080e+05  7.526080e+05  752608.000000   7.526080e+05   \n",
       "mean   7.686833e+07  7.686833e+07       0.192881   4.733132e-06   \n",
       "std    5.516549e+07  5.516549e+07       0.150716   3.332227e-06   \n",
       "min    1.486200e+04  1.486300e+04       0.009762  6.944380e-139   \n",
       "25%    3.260625e+07  3.260625e+07       0.051290   1.733515e-06   \n",
       "50%    6.482696e+07  6.482696e+07       0.160645   4.495565e-06   \n",
       "75%    1.106296e+08  1.106296e+08       0.318900   7.455140e-06   \n",
       "max    2.489068e+08  2.489068e+08       0.500000   1.145150e-05   \n",
       "\n",
       "               Slope             SE  AdjustedPvalue  \n",
       "count  752608.000000  752608.000000   752608.000000  \n",
       "mean       -0.005358       0.212310        0.860860  \n",
       "std         0.086911       0.018007        0.279466  \n",
       "min        -0.433298       0.037807        0.000003  \n",
       "25%        -0.083621       0.208695        0.908083  \n",
       "50%        -0.080047       0.217609        0.997463  \n",
       "75%         0.082841       0.222813        0.999920  \n",
       "max         0.408041       0.227525        0.999997  "
      ]
     },
     "execution_count": 1,
     "metadata": {},
     "output_type": "execute_result"
    }
   ],
   "source": [
    "direct_loose.describe()"
   ]
  },
  {
   "cell_type": "code",
   "execution_count": 11,
   "metadata": {
    "execution": {
     "iopub.execute_input": "2024-12-05T22:24:59.287836Z",
     "iopub.status.busy": "2024-12-05T22:24:59.286994Z",
     "iopub.status.idle": "2024-12-05T22:24:59.316437Z",
     "shell.execute_reply": "2024-12-05T22:24:59.317303Z"
    }
   },
   "outputs": [
    {
     "data": {
      "text/html": [
       "<div>\n",
       "<style scoped>\n",
       "    .dataframe tbody tr th:only-of-type {\n",
       "        vertical-align: middle;\n",
       "    }\n",
       "\n",
       "    .dataframe tbody tr th {\n",
       "        vertical-align: top;\n",
       "    }\n",
       "\n",
       "    .dataframe thead th {\n",
       "        text-align: right;\n",
       "    }\n",
       "</style>\n",
       "<table border=\"1\" class=\"dataframe\">\n",
       "  <thead>\n",
       "    <tr style=\"text-align: right;\">\n",
       "      <th></th>\n",
       "      <th>variant_id</th>\n",
       "      <th>phenotype_id</th>\n",
       "      <th>pval</th>\n",
       "      <th>b</th>\n",
       "      <th>b_se</th>\n",
       "      <th>r2</th>\n",
       "      <th>af</th>\n",
       "      <th>gene_mappability</th>\n",
       "      <th>gene_crossmaps_to_gene_near_variant</th>\n",
       "      <th>biotype</th>\n",
       "      <th>...</th>\n",
       "      <th>beta_shape2</th>\n",
       "      <th>true_df</th>\n",
       "      <th>pval_true_df</th>\n",
       "      <th>pval_perm</th>\n",
       "      <th>pval_beta</th>\n",
       "      <th>pval_beta_no_zero</th>\n",
       "      <th>qvalue</th>\n",
       "      <th>tissue</th>\n",
       "      <th>clumped_variant_id</th>\n",
       "      <th>gene_id</th>\n",
       "    </tr>\n",
       "  </thead>\n",
       "  <tbody>\n",
       "    <tr>\n",
       "      <th>0</th>\n",
       "      <td>chr7_50330658_C_T</td>\n",
       "      <td>ENSG00000000938.13</td>\n",
       "      <td>3.503050e-25</td>\n",
       "      <td>-0.234596</td>\n",
       "      <td>0.022533</td>\n",
       "      <td>0.016690</td>\n",
       "      <td>0.235203</td>\n",
       "      <td>0.999762</td>\n",
       "      <td>False</td>\n",
       "      <td>protein_coding</td>\n",
       "      <td>...</td>\n",
       "      <td>9.795177e+05</td>\n",
       "      <td>6086.276059</td>\n",
       "      <td>4.468785e-24</td>\n",
       "      <td>0.00005</td>\n",
       "      <td>3.457262e-18</td>\n",
       "      <td>3.457262e-18</td>\n",
       "      <td>1.392881e-16</td>\n",
       "      <td>Whole_blood</td>\n",
       "      <td>chr7_50342615_A_G</td>\n",
       "      <td>ENSG00000000938</td>\n",
       "    </tr>\n",
       "    <tr>\n",
       "      <th>1</th>\n",
       "      <td>chr1_156302480_C_T</td>\n",
       "      <td>ENSG00000002330.13</td>\n",
       "      <td>1.027770e-13</td>\n",
       "      <td>0.134956</td>\n",
       "      <td>0.018106</td>\n",
       "      <td>0.008625</td>\n",
       "      <td>0.500775</td>\n",
       "      <td>0.999556</td>\n",
       "      <td>False</td>\n",
       "      <td>protein_coding</td>\n",
       "      <td>...</td>\n",
       "      <td>1.008630e+06</td>\n",
       "      <td>6081.962583</td>\n",
       "      <td>3.926652e-13</td>\n",
       "      <td>0.00005</td>\n",
       "      <td>3.664337e-07</td>\n",
       "      <td>3.664337e-07</td>\n",
       "      <td>5.779733e-06</td>\n",
       "      <td>Whole_blood</td>\n",
       "      <td>chr1_156344836_A_G</td>\n",
       "      <td>ENSG00000002330</td>\n",
       "    </tr>\n",
       "    <tr>\n",
       "      <th>2</th>\n",
       "      <td>chr6_144036619_C_A</td>\n",
       "      <td>ENSG00000004059.11</td>\n",
       "      <td>1.984040e-17</td>\n",
       "      <td>0.331091</td>\n",
       "      <td>0.038865</td>\n",
       "      <td>0.011237</td>\n",
       "      <td>0.055934</td>\n",
       "      <td>1.000000</td>\n",
       "      <td>False</td>\n",
       "      <td>protein_coding</td>\n",
       "      <td>...</td>\n",
       "      <td>9.587406e+05</td>\n",
       "      <td>6060.399614</td>\n",
       "      <td>1.281332e-16</td>\n",
       "      <td>0.00005</td>\n",
       "      <td>9.188711e-11</td>\n",
       "      <td>9.188711e-11</td>\n",
       "      <td>2.100000e-09</td>\n",
       "      <td>Whole_blood</td>\n",
       "      <td>chr6_144036619_C_A</td>\n",
       "      <td>ENSG00000004059</td>\n",
       "    </tr>\n",
       "    <tr>\n",
       "      <th>3</th>\n",
       "      <td>chr6_122440739_T_C</td>\n",
       "      <td>ENSG00000004478.8</td>\n",
       "      <td>1.034670e-10</td>\n",
       "      <td>0.126184</td>\n",
       "      <td>0.019495</td>\n",
       "      <td>0.006518</td>\n",
       "      <td>0.706539</td>\n",
       "      <td>0.960425</td>\n",
       "      <td>False</td>\n",
       "      <td>protein_coding</td>\n",
       "      <td>...</td>\n",
       "      <td>1.105596e+06</td>\n",
       "      <td>6130.610651</td>\n",
       "      <td>2.431723e-10</td>\n",
       "      <td>0.00025</td>\n",
       "      <td>2.609707e-04</td>\n",
       "      <td>2.609707e-04</td>\n",
       "      <td>2.773133e-03</td>\n",
       "      <td>Whole_blood</td>\n",
       "      <td>chr6_122440739_T_C</td>\n",
       "      <td>ENSG00000004478</td>\n",
       "    </tr>\n",
       "    <tr>\n",
       "      <th>4</th>\n",
       "      <td>chr22_46290431_C_G</td>\n",
       "      <td>ENSG00000004799.8</td>\n",
       "      <td>7.740950e-13</td>\n",
       "      <td>0.207077</td>\n",
       "      <td>0.028839</td>\n",
       "      <td>0.008009</td>\n",
       "      <td>0.107530</td>\n",
       "      <td>1.000000</td>\n",
       "      <td>False</td>\n",
       "      <td>protein_coding</td>\n",
       "      <td>...</td>\n",
       "      <td>9.587406e+05</td>\n",
       "      <td>6060.399614</td>\n",
       "      <td>2.939505e-12</td>\n",
       "      <td>0.00005</td>\n",
       "      <td>2.389651e-06</td>\n",
       "      <td>2.389651e-06</td>\n",
       "      <td>3.403684e-05</td>\n",
       "      <td>Whole_blood</td>\n",
       "      <td>chr22_46290431_C_G</td>\n",
       "      <td>ENSG00000004799</td>\n",
       "    </tr>\n",
       "  </tbody>\n",
       "</table>\n",
       "<p>5 rows × 23 columns</p>\n",
       "</div>"
      ],
      "text/plain": [
       "           variant_id        phenotype_id          pval         b      b_se  \\\n",
       "0   chr7_50330658_C_T  ENSG00000000938.13  3.503050e-25 -0.234596  0.022533   \n",
       "1  chr1_156302480_C_T  ENSG00000002330.13  1.027770e-13  0.134956  0.018106   \n",
       "2  chr6_144036619_C_A  ENSG00000004059.11  1.984040e-17  0.331091  0.038865   \n",
       "3  chr6_122440739_T_C   ENSG00000004478.8  1.034670e-10  0.126184  0.019495   \n",
       "4  chr22_46290431_C_G   ENSG00000004799.8  7.740950e-13  0.207077  0.028839   \n",
       "\n",
       "         r2        af  gene_mappability  gene_crossmaps_to_gene_near_variant  \\\n",
       "0  0.016690  0.235203          0.999762                                False   \n",
       "1  0.008625  0.500775          0.999556                                False   \n",
       "2  0.011237  0.055934          1.000000                                False   \n",
       "3  0.006518  0.706539          0.960425                                False   \n",
       "4  0.008009  0.107530          1.000000                                False   \n",
       "\n",
       "          biotype  ...   beta_shape2      true_df  pval_true_df  pval_perm  \\\n",
       "0  protein_coding  ...  9.795177e+05  6086.276059  4.468785e-24    0.00005   \n",
       "1  protein_coding  ...  1.008630e+06  6081.962583  3.926652e-13    0.00005   \n",
       "2  protein_coding  ...  9.587406e+05  6060.399614  1.281332e-16    0.00005   \n",
       "3  protein_coding  ...  1.105596e+06  6130.610651  2.431723e-10    0.00025   \n",
       "4  protein_coding  ...  9.587406e+05  6060.399614  2.939505e-12    0.00005   \n",
       "\n",
       "      pval_beta  pval_beta_no_zero        qvalue       tissue  \\\n",
       "0  3.457262e-18       3.457262e-18  1.392881e-16  Whole_blood   \n",
       "1  3.664337e-07       3.664337e-07  5.779733e-06  Whole_blood   \n",
       "2  9.188711e-11       9.188711e-11  2.100000e-09  Whole_blood   \n",
       "3  2.609707e-04       2.609707e-04  2.773133e-03  Whole_blood   \n",
       "4  2.389651e-06       2.389651e-06  3.403684e-05  Whole_blood   \n",
       "\n",
       "   clumped_variant_id          gene_id  \n",
       "0   chr7_50342615_A_G  ENSG00000000938  \n",
       "1  chr1_156344836_A_G  ENSG00000002330  \n",
       "2  chr6_144036619_C_A  ENSG00000004059  \n",
       "3  chr6_122440739_T_C  ENSG00000004478  \n",
       "4  chr22_46290431_C_G  ENSG00000004799  \n",
       "\n",
       "[5 rows x 23 columns]"
      ]
     },
     "execution_count": 1,
     "metadata": {},
     "output_type": "execute_result"
    }
   ],
   "source": [
    "topmed_trans_eqtl = pd.read_csv('../work/clump-trans-variants/clump-trans-signals.significant-trans-eqtl-clumped.tsv', sep='\\t')\n",
    "if USE_CLUMPED:\n",
    "    topmed_trans_eqtl.variant_id = topmed_trans_eqtl.clumped_variant_id\n",
    "topmed_trans_eqtl = topmed_trans_eqtl[topmed_trans_eqtl.tissue=='Whole_blood']\n",
    "topmed_trans_eqtl['gene_id'] = topmed_trans_eqtl.phenotype_id.str.split('.', expand=True)[0]\n",
    "topmed_trans_eqtl.head()"
   ]
  },
  {
   "cell_type": "code",
   "execution_count": 12,
   "metadata": {
    "execution": {
     "iopub.execute_input": "2024-12-05T22:24:59.324275Z",
     "iopub.status.busy": "2024-12-05T22:24:59.323166Z",
     "iopub.status.idle": "2024-12-05T22:24:59.827399Z",
     "shell.execute_reply": "2024-12-05T22:24:59.826907Z"
    }
   },
   "outputs": [
    {
     "name": "stdout",
     "output_type": "stream",
     "text": [
      "True     1476\n",
      "False     249\n",
      "Name: direct_slope, dtype: int64\n"
     ]
    },
    {
     "data": {
      "text/plain": [
       "<matplotlib.lines.Line2D at 0x7d7362fa3250>"
      ]
     },
     "execution_count": 1,
     "metadata": {},
     "output_type": "execute_result"
    },
    {
     "data": {
      "image/png": "[encoded data removed]",
      "text/plain": [
       "<Figure size 432x288 with 1 Axes>"
      ]
     },
     "metadata": {
      "needs_background": "light"
     },
     "output_type": "display_data"
    }
   ],
   "source": [
    "# check directional concordance w/ loose\n",
    "loose_concordance = topmed_trans_eqtl[['variant_id', 'gene_id', 'b']].rename(columns={'b': 'topmed_slope'}).merge(direct_loose[['GeneID', 'SNPid', 'Slope']].rename(columns={'Slope': 'direct_slope', 'GeneID': 'gene_id', 'SNPid': 'variant_id'}), how='left')\n",
    "print(loose_concordance.direct_slope.isnull().value_counts())\n",
    "\n",
    "fig, ax = plt.subplots()\n",
    "\n",
    "sns.scatterplot(x='topmed_slope', y='direct_slope', ax=ax, data=loose_concordance, alpha=0.1)\n",
    "ax.axvline(0, color='black', ls='--')\n",
    "ax.axhline(0, color='black', ls='--')"
   ]
  },
  {
   "cell_type": "code",
   "execution_count": 13,
   "metadata": {
    "execution": {
     "iopub.execute_input": "2024-12-05T22:24:59.835493Z",
     "iopub.status.busy": "2024-12-05T22:24:59.835045Z",
     "iopub.status.idle": "2024-12-05T22:24:59.842917Z",
     "shell.execute_reply": "2024-12-05T22:24:59.842407Z"
    }
   },
   "outputs": [
    {
     "name": "stdout",
     "output_type": "stream",
     "text": [
      "2088\n"
     ]
    }
   ],
   "source": [
    "all_variants = set(topmed_trans_eqtl.variant_id).union(set(direct_significant.SNPid))\n",
    "all_variants_df = pd.DataFrame(list(all_variants), columns=['variant_id'])\n",
    "all_variants_df[['chrom', 'pos']] = all_variants_df.variant_id.str.split('_', expand=True)[[0, 1]]\n",
    "all_variants_df = all_variants_df[~all_variants_df.variant_id.str.contains('GL')]\n",
    "print(len(all_variants_df))"
   ]
  },
  {
   "cell_type": "code",
   "execution_count": 14,
   "metadata": {
    "execution": {
     "iopub.execute_input": "2024-12-05T22:24:59.847273Z",
     "iopub.status.busy": "2024-12-05T22:24:59.846731Z",
     "iopub.status.idle": "2024-12-05T22:24:59.850584Z",
     "shell.execute_reply": "2024-12-05T22:24:59.849743Z"
    }
   },
   "outputs": [
    {
     "data": {
      "text/plain": [
       "array(['chr7', 'chr1', 'chr2', 'chr3', 'chr12', 'chr13', 'chr11', 'chr18',\n",
       "       'chr6', 'chr19', 'chr16', 'chr5', 'chr15', 'chr9', 'chr10',\n",
       "       'chr14', 'chr17', 'chr4', 'chr8', 'chrX', 'chr20', 'chr22',\n",
       "       'chr21'], dtype=object)"
      ]
     },
     "execution_count": 1,
     "metadata": {},
     "output_type": "execute_result"
    }
   ],
   "source": [
    "all_variants_df.chrom.unique()"
   ]
  },
  {
   "cell_type": "code",
   "execution_count": 15,
   "metadata": {
    "execution": {
     "iopub.execute_input": "2024-12-05T22:24:59.855526Z",
     "iopub.status.busy": "2024-12-05T22:24:59.854678Z",
     "iopub.status.idle": "2024-12-05T22:25:00.027863Z",
     "shell.execute_reply": "2024-12-05T22:25:00.026771Z"
    }
   },
   "outputs": [
    {
     "name": "stdout",
     "output_type": "stream",
     "text": [
      "6454\n"
     ]
    }
   ],
   "source": [
    "topmed_whole_blood_samples = pd.read_csv('../data/tensorqtl-in/joint/cis-eqtl/Whole_blood.tensorqtl-in.phenotypes.bed.gz', nrows=1, sep='\\t')\n",
    "topmed_whole_blood_samples = topmed_whole_blood_samples.columns.to_list()[4:]\n",
    "print(len(topmed_whole_blood_samples))"
   ]
  },
  {
   "cell_type": "code",
   "execution_count": 16,
   "metadata": {
    "execution": {
     "iopub.execute_input": "2024-12-05T22:25:00.049741Z",
     "iopub.status.busy": "2024-12-05T22:25:00.033125Z",
     "iopub.status.idle": "2024-12-05T22:28:41.289839Z",
     "shell.execute_reply": "2024-12-05T22:28:41.290195Z"
    }
   },
   "outputs": [
    {
     "data": {
      "text/html": [
       "<div>\n",
       "<style scoped>\n",
       "    .dataframe tbody tr th:only-of-type {\n",
       "        vertical-align: middle;\n",
       "    }\n",
       "\n",
       "    .dataframe tbody tr th {\n",
       "        vertical-align: top;\n",
       "    }\n",
       "\n",
       "    .dataframe thead th {\n",
       "        text-align: right;\n",
       "    }\n",
       "</style>\n",
       "<table border=\"1\" class=\"dataframe\">\n",
       "  <thead>\n",
       "    <tr style=\"text-align: right;\">\n",
       "      <th></th>\n",
       "      <th>NWD100109</th>\n",
       "      <th>NWD100234</th>\n",
       "      <th>NWD100395</th>\n",
       "      <th>NWD100423</th>\n",
       "      <th>NWD100677</th>\n",
       "      <th>NWD100822</th>\n",
       "      <th>NWD100934</th>\n",
       "      <th>NWD100980</th>\n",
       "      <th>NWD101503</th>\n",
       "      <th>NWD101776</th>\n",
       "      <th>...</th>\n",
       "      <th>NWD998944</th>\n",
       "      <th>NWD999037</th>\n",
       "      <th>NWD999139</th>\n",
       "      <th>NWD999190</th>\n",
       "      <th>NWD999225</th>\n",
       "      <th>NWD999266</th>\n",
       "      <th>NWD999349</th>\n",
       "      <th>NWD999373</th>\n",
       "      <th>NWD999589</th>\n",
       "      <th>NWD999620</th>\n",
       "    </tr>\n",
       "  </thead>\n",
       "  <tbody>\n",
       "    <tr>\n",
       "      <th>chr1_92088726_G_A</th>\n",
       "      <td>0</td>\n",
       "      <td>0</td>\n",
       "      <td>0</td>\n",
       "      <td>0</td>\n",
       "      <td>0</td>\n",
       "      <td>1</td>\n",
       "      <td>0</td>\n",
       "      <td>0</td>\n",
       "      <td>0</td>\n",
       "      <td>0</td>\n",
       "      <td>...</td>\n",
       "      <td>0</td>\n",
       "      <td>0</td>\n",
       "      <td>0</td>\n",
       "      <td>0</td>\n",
       "      <td>0</td>\n",
       "      <td>0</td>\n",
       "      <td>0</td>\n",
       "      <td>0</td>\n",
       "      <td>0</td>\n",
       "      <td>0</td>\n",
       "    </tr>\n",
       "    <tr>\n",
       "      <th>chr1_156344836_A_G</th>\n",
       "      <td>1</td>\n",
       "      <td>2</td>\n",
       "      <td>1</td>\n",
       "      <td>2</td>\n",
       "      <td>1</td>\n",
       "      <td>1</td>\n",
       "      <td>2</td>\n",
       "      <td>1</td>\n",
       "      <td>2</td>\n",
       "      <td>1</td>\n",
       "      <td>...</td>\n",
       "      <td>2</td>\n",
       "      <td>0</td>\n",
       "      <td>2</td>\n",
       "      <td>1</td>\n",
       "      <td>1</td>\n",
       "      <td>0</td>\n",
       "      <td>0</td>\n",
       "      <td>0</td>\n",
       "      <td>0</td>\n",
       "      <td>1</td>\n",
       "    </tr>\n",
       "    <tr>\n",
       "      <th>chr1_181672576_A_G</th>\n",
       "      <td>0</td>\n",
       "      <td>0</td>\n",
       "      <td>0</td>\n",
       "      <td>0</td>\n",
       "      <td>0</td>\n",
       "      <td>0</td>\n",
       "      <td>0</td>\n",
       "      <td>0</td>\n",
       "      <td>0</td>\n",
       "      <td>0</td>\n",
       "      <td>...</td>\n",
       "      <td>0</td>\n",
       "      <td>0</td>\n",
       "      <td>0</td>\n",
       "      <td>0</td>\n",
       "      <td>0</td>\n",
       "      <td>0</td>\n",
       "      <td>0</td>\n",
       "      <td>1</td>\n",
       "      <td>0</td>\n",
       "      <td>0</td>\n",
       "    </tr>\n",
       "    <tr>\n",
       "      <th>chr1_24935531_C_A</th>\n",
       "      <td>1</td>\n",
       "      <td>2</td>\n",
       "      <td>1</td>\n",
       "      <td>1</td>\n",
       "      <td>2</td>\n",
       "      <td>0</td>\n",
       "      <td>2</td>\n",
       "      <td>2</td>\n",
       "      <td>0</td>\n",
       "      <td>0</td>\n",
       "      <td>...</td>\n",
       "      <td>1</td>\n",
       "      <td>1</td>\n",
       "      <td>0</td>\n",
       "      <td>1</td>\n",
       "      <td>2</td>\n",
       "      <td>0</td>\n",
       "      <td>1</td>\n",
       "      <td>2</td>\n",
       "      <td>1</td>\n",
       "      <td>0</td>\n",
       "    </tr>\n",
       "    <tr>\n",
       "      <th>chr1_178070091_T_C</th>\n",
       "      <td>0</td>\n",
       "      <td>1</td>\n",
       "      <td>1</td>\n",
       "      <td>1</td>\n",
       "      <td>1</td>\n",
       "      <td>1</td>\n",
       "      <td>1</td>\n",
       "      <td>0</td>\n",
       "      <td>0</td>\n",
       "      <td>1</td>\n",
       "      <td>...</td>\n",
       "      <td>1</td>\n",
       "      <td>0</td>\n",
       "      <td>1</td>\n",
       "      <td>1</td>\n",
       "      <td>1</td>\n",
       "      <td>1</td>\n",
       "      <td>1</td>\n",
       "      <td>0</td>\n",
       "      <td>2</td>\n",
       "      <td>0</td>\n",
       "    </tr>\n",
       "  </tbody>\n",
       "</table>\n",
       "<p>5 rows × 6454 columns</p>\n",
       "</div>"
      ],
      "text/plain": [
       "                    NWD100109  NWD100234  NWD100395  NWD100423  NWD100677  \\\n",
       "chr1_92088726_G_A           0          0          0          0          0   \n",
       "chr1_156344836_A_G          1          2          1          2          1   \n",
       "chr1_181672576_A_G          0          0          0          0          0   \n",
       "chr1_24935531_C_A           1          2          1          1          2   \n",
       "chr1_178070091_T_C          0          1          1          1          1   \n",
       "\n",
       "                    NWD100822  NWD100934  NWD100980  NWD101503  NWD101776  \\\n",
       "chr1_92088726_G_A           1          0          0          0          0   \n",
       "chr1_156344836_A_G          1          2          1          2          1   \n",
       "chr1_181672576_A_G          0          0          0          0          0   \n",
       "chr1_24935531_C_A           0          2          2          0          0   \n",
       "chr1_178070091_T_C          1          1          0          0          1   \n",
       "\n",
       "                    ...  NWD998944  NWD999037  NWD999139  NWD999190  \\\n",
       "chr1_92088726_G_A   ...          0          0          0          0   \n",
       "chr1_156344836_A_G  ...          2          0          2          1   \n",
       "chr1_181672576_A_G  ...          0          0          0          0   \n",
       "chr1_24935531_C_A   ...          1          1          0          1   \n",
       "chr1_178070091_T_C  ...          1          0          1          1   \n",
       "\n",
       "                    NWD999225  NWD999266  NWD999349  NWD999373  NWD999589  \\\n",
       "chr1_92088726_G_A           0          0          0          0          0   \n",
       "chr1_156344836_A_G          1          0          0          0          0   \n",
       "chr1_181672576_A_G          0          0          0          1          0   \n",
       "chr1_24935531_C_A           2          0          1          2          1   \n",
       "chr1_178070091_T_C          1          1          1          0          2   \n",
       "\n",
       "                    NWD999620  \n",
       "chr1_92088726_G_A           0  \n",
       "chr1_156344836_A_G          1  \n",
       "chr1_181672576_A_G          0  \n",
       "chr1_24935531_C_A           0  \n",
       "chr1_178070091_T_C          0  \n",
       "\n",
       "[5 rows x 6454 columns]"
      ]
     },
     "execution_count": 1,
     "metadata": {},
     "output_type": "execute_result"
    }
   ],
   "source": [
    "# TODO: use EUR samples only?\n",
    "aac = pd.concat(\n",
    "    [tg.get_alt_allele_counts(vcf_path=f'../data/genotypes/vcfs-updated-ids-pass-filter/{chrom}.vcf.gz', variants=df.variant_id.unique(), samples=topmed_whole_blood_samples) for chrom, df in all_variants_df.groupby('chrom')]\n",
    ")\n",
    "aac.head()"
   ]
  },
  {
   "cell_type": "code",
   "execution_count": 17,
   "metadata": {
    "execution": {
     "iopub.execute_input": "2024-12-05T22:28:41.296118Z",
     "iopub.status.busy": "2024-12-05T22:28:41.295536Z",
     "iopub.status.idle": "2024-12-05T22:28:43.830556Z",
     "shell.execute_reply": "2024-12-05T22:28:43.831713Z"
    }
   },
   "outputs": [
    {
     "data": {
      "text/html": [
       "<div>\n",
       "<style scoped>\n",
       "    .dataframe tbody tr th:only-of-type {\n",
       "        vertical-align: middle;\n",
       "    }\n",
       "\n",
       "    .dataframe tbody tr th {\n",
       "        vertical-align: top;\n",
       "    }\n",
       "\n",
       "    .dataframe thead th {\n",
       "        text-align: right;\n",
       "    }\n",
       "</style>\n",
       "<table border=\"1\" class=\"dataframe\">\n",
       "  <thead>\n",
       "    <tr style=\"text-align: right;\">\n",
       "      <th></th>\n",
       "      <th>chr1_92088726_G_A</th>\n",
       "      <th>chr1_156344836_A_G</th>\n",
       "      <th>chr1_181672576_A_G</th>\n",
       "      <th>chr1_24935531_C_A</th>\n",
       "      <th>chr1_178070091_T_C</th>\n",
       "      <th>chr1_5621885_T_C</th>\n",
       "      <th>chr1_158846553_C_T</th>\n",
       "      <th>chr1_94557440_A_G</th>\n",
       "      <th>chr1_158840522_C_T</th>\n",
       "      <th>chr1_153365467_G_A</th>\n",
       "      <th>...</th>\n",
       "      <th>chrX_36811193_CA_C</th>\n",
       "      <th>chrX_66936895_C_T</th>\n",
       "      <th>chrX_53203852_G_C</th>\n",
       "      <th>chrX_95798706_C_T</th>\n",
       "      <th>chrX_53192077_T_TG</th>\n",
       "      <th>chrX_135297239_T_C</th>\n",
       "      <th>chrX_111054598_T_A</th>\n",
       "      <th>chrX_103811887_T_C</th>\n",
       "      <th>chrX_40985535_C_A</th>\n",
       "      <th>chrX_152890172_A_G</th>\n",
       "    </tr>\n",
       "  </thead>\n",
       "  <tbody>\n",
       "    <tr>\n",
       "      <th>chr1_92088726_G_A</th>\n",
       "      <td>1.000000</td>\n",
       "      <td>0.000286</td>\n",
       "      <td>0.000388</td>\n",
       "      <td>0.000670</td>\n",
       "      <td>0.000862</td>\n",
       "      <td>0.000293</td>\n",
       "      <td>0.000812</td>\n",
       "      <td>0.000013</td>\n",
       "      <td>0.000805</td>\n",
       "      <td>0.000371</td>\n",
       "      <td>...</td>\n",
       "      <td>0.0</td>\n",
       "      <td>0.0</td>\n",
       "      <td>0.0</td>\n",
       "      <td>0.0</td>\n",
       "      <td>0.0</td>\n",
       "      <td>0.0</td>\n",
       "      <td>0.0</td>\n",
       "      <td>0.0</td>\n",
       "      <td>0.0</td>\n",
       "      <td>0.0</td>\n",
       "    </tr>\n",
       "    <tr>\n",
       "      <th>chr1_156344836_A_G</th>\n",
       "      <td>0.000286</td>\n",
       "      <td>1.000000</td>\n",
       "      <td>0.000022</td>\n",
       "      <td>0.018894</td>\n",
       "      <td>0.001401</td>\n",
       "      <td>0.002277</td>\n",
       "      <td>0.003654</td>\n",
       "      <td>0.006125</td>\n",
       "      <td>0.004938</td>\n",
       "      <td>0.001423</td>\n",
       "      <td>...</td>\n",
       "      <td>0.0</td>\n",
       "      <td>0.0</td>\n",
       "      <td>0.0</td>\n",
       "      <td>0.0</td>\n",
       "      <td>0.0</td>\n",
       "      <td>0.0</td>\n",
       "      <td>0.0</td>\n",
       "      <td>0.0</td>\n",
       "      <td>0.0</td>\n",
       "      <td>0.0</td>\n",
       "    </tr>\n",
       "    <tr>\n",
       "      <th>chr1_181672576_A_G</th>\n",
       "      <td>0.000388</td>\n",
       "      <td>0.000022</td>\n",
       "      <td>1.000000</td>\n",
       "      <td>0.001472</td>\n",
       "      <td>0.000002</td>\n",
       "      <td>0.000015</td>\n",
       "      <td>0.000280</td>\n",
       "      <td>0.000114</td>\n",
       "      <td>0.000074</td>\n",
       "      <td>0.000001</td>\n",
       "      <td>...</td>\n",
       "      <td>0.0</td>\n",
       "      <td>0.0</td>\n",
       "      <td>0.0</td>\n",
       "      <td>0.0</td>\n",
       "      <td>0.0</td>\n",
       "      <td>0.0</td>\n",
       "      <td>0.0</td>\n",
       "      <td>0.0</td>\n",
       "      <td>0.0</td>\n",
       "      <td>0.0</td>\n",
       "    </tr>\n",
       "    <tr>\n",
       "      <th>chr1_24935531_C_A</th>\n",
       "      <td>0.000670</td>\n",
       "      <td>0.018894</td>\n",
       "      <td>0.001472</td>\n",
       "      <td>1.000000</td>\n",
       "      <td>0.002940</td>\n",
       "      <td>0.004664</td>\n",
       "      <td>0.007600</td>\n",
       "      <td>0.004084</td>\n",
       "      <td>0.003843</td>\n",
       "      <td>0.005945</td>\n",
       "      <td>...</td>\n",
       "      <td>0.0</td>\n",
       "      <td>0.0</td>\n",
       "      <td>0.0</td>\n",
       "      <td>0.0</td>\n",
       "      <td>0.0</td>\n",
       "      <td>0.0</td>\n",
       "      <td>0.0</td>\n",
       "      <td>0.0</td>\n",
       "      <td>0.0</td>\n",
       "      <td>0.0</td>\n",
       "    </tr>\n",
       "    <tr>\n",
       "      <th>chr1_178070091_T_C</th>\n",
       "      <td>0.000862</td>\n",
       "      <td>0.001401</td>\n",
       "      <td>0.000002</td>\n",
       "      <td>0.002940</td>\n",
       "      <td>1.000000</td>\n",
       "      <td>0.001723</td>\n",
       "      <td>0.002347</td>\n",
       "      <td>0.000146</td>\n",
       "      <td>0.001470</td>\n",
       "      <td>0.000059</td>\n",
       "      <td>...</td>\n",
       "      <td>0.0</td>\n",
       "      <td>0.0</td>\n",
       "      <td>0.0</td>\n",
       "      <td>0.0</td>\n",
       "      <td>0.0</td>\n",
       "      <td>0.0</td>\n",
       "      <td>0.0</td>\n",
       "      <td>0.0</td>\n",
       "      <td>0.0</td>\n",
       "      <td>0.0</td>\n",
       "    </tr>\n",
       "  </tbody>\n",
       "</table>\n",
       "<p>5 rows × 1887 columns</p>\n",
       "</div>"
      ],
      "text/plain": [
       "                    chr1_92088726_G_A  chr1_156344836_A_G  chr1_181672576_A_G  \\\n",
       "chr1_92088726_G_A            1.000000            0.000286            0.000388   \n",
       "chr1_156344836_A_G           0.000286            1.000000            0.000022   \n",
       "chr1_181672576_A_G           0.000388            0.000022            1.000000   \n",
       "chr1_24935531_C_A            0.000670            0.018894            0.001472   \n",
       "chr1_178070091_T_C           0.000862            0.001401            0.000002   \n",
       "\n",
       "                    chr1_24935531_C_A  chr1_178070091_T_C  chr1_5621885_T_C  \\\n",
       "chr1_92088726_G_A            0.000670            0.000862          0.000293   \n",
       "chr1_156344836_A_G           0.018894            0.001401          0.002277   \n",
       "chr1_181672576_A_G           0.001472            0.000002          0.000015   \n",
       "chr1_24935531_C_A            1.000000            0.002940          0.004664   \n",
       "chr1_178070091_T_C           0.002940            1.000000          0.001723   \n",
       "\n",
       "                    chr1_158846553_C_T  chr1_94557440_A_G  chr1_158840522_C_T  \\\n",
       "chr1_92088726_G_A             0.000812           0.000013            0.000805   \n",
       "chr1_156344836_A_G            0.003654           0.006125            0.004938   \n",
       "chr1_181672576_A_G            0.000280           0.000114            0.000074   \n",
       "chr1_24935531_C_A             0.007600           0.004084            0.003843   \n",
       "chr1_178070091_T_C            0.002347           0.000146            0.001470   \n",
       "\n",
       "                    chr1_153365467_G_A  ...  chrX_36811193_CA_C  \\\n",
       "chr1_92088726_G_A             0.000371  ...                 0.0   \n",
       "chr1_156344836_A_G            0.001423  ...                 0.0   \n",
       "chr1_181672576_A_G            0.000001  ...                 0.0   \n",
       "chr1_24935531_C_A             0.005945  ...                 0.0   \n",
       "chr1_178070091_T_C            0.000059  ...                 0.0   \n",
       "\n",
       "                    chrX_66936895_C_T  chrX_53203852_G_C  chrX_95798706_C_T  \\\n",
       "chr1_92088726_G_A                 0.0                0.0                0.0   \n",
       "chr1_156344836_A_G                0.0                0.0                0.0   \n",
       "chr1_181672576_A_G                0.0                0.0                0.0   \n",
       "chr1_24935531_C_A                 0.0                0.0                0.0   \n",
       "chr1_178070091_T_C                0.0                0.0                0.0   \n",
       "\n",
       "                    chrX_53192077_T_TG  chrX_135297239_T_C  \\\n",
       "chr1_92088726_G_A                  0.0                 0.0   \n",
       "chr1_156344836_A_G                 0.0                 0.0   \n",
       "chr1_181672576_A_G                 0.0                 0.0   \n",
       "chr1_24935531_C_A                  0.0                 0.0   \n",
       "chr1_178070091_T_C                 0.0                 0.0   \n",
       "\n",
       "                    chrX_111054598_T_A  chrX_103811887_T_C  chrX_40985535_C_A  \\\n",
       "chr1_92088726_G_A                  0.0                 0.0                0.0   \n",
       "chr1_156344836_A_G                 0.0                 0.0                0.0   \n",
       "chr1_181672576_A_G                 0.0                 0.0                0.0   \n",
       "chr1_24935531_C_A                  0.0                 0.0                0.0   \n",
       "chr1_178070091_T_C                 0.0                 0.0                0.0   \n",
       "\n",
       "                    chrX_152890172_A_G  \n",
       "chr1_92088726_G_A                  0.0  \n",
       "chr1_156344836_A_G                 0.0  \n",
       "chr1_181672576_A_G                 0.0  \n",
       "chr1_24935531_C_A                  0.0  \n",
       "chr1_178070091_T_C                 0.0  \n",
       "\n",
       "[5 rows x 1887 columns]"
      ]
     },
     "execution_count": 1,
     "metadata": {},
     "output_type": "execute_result"
    }
   ],
   "source": [
    "ld_matrix = tg.alt_allele_counts_matrix_to_r2_matrix(aac)\n",
    "ld_matrix.head()"
   ]
  },
  {
   "cell_type": "code",
   "execution_count": 18,
   "metadata": {
    "execution": {
     "iopub.execute_input": "2024-12-05T22:28:43.838339Z",
     "iopub.status.busy": "2024-12-05T22:28:43.837242Z",
     "iopub.status.idle": "2024-12-05T22:28:43.841133Z",
     "shell.execute_reply": "2024-12-05T22:28:43.841972Z"
    }
   },
   "outputs": [
    {
     "data": {
      "text/plain": [
       "False    1261\n",
       "True      464\n",
       "Name: gene_id, dtype: int64"
      ]
     },
     "execution_count": 1,
     "metadata": {},
     "output_type": "execute_result"
    }
   ],
   "source": [
    "# oof -- not even great overlap between trans-eGenes.\n",
    "topmed_trans_eqtl.gene_id.isin(direct_significant.GeneID).value_counts()"
   ]
  },
  {
   "cell_type": "code",
   "execution_count": 19,
   "metadata": {
    "execution": {
     "iopub.execute_input": "2024-12-05T22:28:43.845175Z",
     "iopub.status.busy": "2024-12-05T22:28:43.844380Z",
     "iopub.status.idle": "2024-12-05T22:28:43.849536Z",
     "shell.execute_reply": "2024-12-05T22:28:43.850022Z"
    }
   },
   "outputs": [
    {
     "data": {
      "text/plain": [
       "False    1206\n",
       "True      464\n",
       "dtype: int64"
      ]
     },
     "execution_count": 1,
     "metadata": {},
     "output_type": "execute_result"
    }
   ],
   "source": [
    "pd.Series(direct_significant.GeneID.unique()).isin(topmed_trans_eqtl.gene_id).value_counts()"
   ]
  },
  {
   "cell_type": "code",
   "execution_count": 20,
   "metadata": {
    "execution": {
     "iopub.execute_input": "2024-12-05T22:28:43.853307Z",
     "iopub.status.busy": "2024-12-05T22:28:43.852802Z",
     "iopub.status.idle": "2024-12-05T22:28:43.967674Z",
     "shell.execute_reply": "2024-12-05T22:28:43.968514Z"
    }
   },
   "outputs": [],
   "source": [
    "eqtlgen_significant = pd.read_csv('/net/topmed11/working/porchard/eqtlgen-preprocessing/data/eqtlgen/2018-09-04-trans-eQTLsFDR0.05-CohortInfoRemoved-BonferroniAdded.txt.gz', sep='\\t')\n",
    "eqtlgen_transegenes = set(eqtlgen_significant.Gene)"
   ]
  },
  {
   "cell_type": "code",
   "execution_count": 21,
   "metadata": {
    "execution": {
     "iopub.execute_input": "2024-12-05T22:28:43.977578Z",
     "iopub.status.busy": "2024-12-05T22:28:43.975964Z",
     "iopub.status.idle": "2024-12-05T22:28:43.981457Z",
     "shell.execute_reply": "2024-12-05T22:28:43.981078Z"
    }
   },
   "outputs": [
    {
     "name": "stdout",
     "output_type": "stream",
     "text": [
      "0.7814492753623189\n"
     ]
    },
    {
     "data": {
      "text/plain": [
       "True     1348\n",
       "False     377\n",
       "Name: gene_id, dtype: int64"
      ]
     },
     "execution_count": 1,
     "metadata": {},
     "output_type": "execute_result"
    }
   ],
   "source": [
    "print(topmed_trans_eqtl.gene_id.isin(eqtlgen_transegenes).mean())\n",
    "topmed_trans_eqtl.gene_id.isin(eqtlgen_transegenes).value_counts()"
   ]
  },
  {
   "cell_type": "code",
   "execution_count": 22,
   "metadata": {
    "execution": {
     "iopub.execute_input": "2024-12-05T22:28:43.987067Z",
     "iopub.status.busy": "2024-12-05T22:28:43.985955Z",
     "iopub.status.idle": "2024-12-05T22:28:43.992495Z",
     "shell.execute_reply": "2024-12-05T22:28:43.992816Z"
    }
   },
   "outputs": [
    {
     "name": "stdout",
     "output_type": "stream",
     "text": [
      "0.5796407185628742\n"
     ]
    },
    {
     "data": {
      "text/plain": [
       "True     968\n",
       "False    702\n",
       "dtype: int64"
      ]
     },
     "execution_count": 1,
     "metadata": {},
     "output_type": "execute_result"
    }
   ],
   "source": [
    "print(pd.Series(direct_significant.GeneID.unique()).isin(eqtlgen_transegenes).mean())\n",
    "pd.Series(direct_significant.GeneID.unique()).isin(eqtlgen_transegenes).value_counts()"
   ]
  },
  {
   "cell_type": "code",
   "execution_count": 23,
   "metadata": {
    "execution": {
     "iopub.execute_input": "2024-12-05T22:28:43.995890Z",
     "iopub.status.busy": "2024-12-05T22:28:43.995349Z",
     "iopub.status.idle": "2024-12-05T22:28:43.998402Z",
     "shell.execute_reply": "2024-12-05T22:28:43.997828Z"
    }
   },
   "outputs": [
    {
     "data": {
      "text/plain": [
       "1670"
      ]
     },
     "execution_count": 1,
     "metadata": {},
     "output_type": "execute_result"
    }
   ],
   "source": [
    "direct_significant.GeneID.nunique()"
   ]
  },
  {
   "cell_type": "code",
   "execution_count": 24,
   "metadata": {
    "execution": {
     "iopub.execute_input": "2024-12-05T22:28:44.006064Z",
     "iopub.status.busy": "2024-12-05T22:28:44.005694Z",
     "iopub.status.idle": "2024-12-05T22:28:44.016734Z",
     "shell.execute_reply": "2024-12-05T22:28:44.017153Z"
    }
   },
   "outputs": [
    {
     "name": "stdout",
     "output_type": "stream",
     "text": [
      "0.5796407185628742\n",
      "0.7814492753623189\n",
      "0.2689855072463768\n"
     ]
    }
   ],
   "source": [
    "direct_transegenes = set(direct_significant.GeneID)\n",
    "topmed_transegenes = set(topmed_trans_eqtl.gene_id)\n",
    "transegenes = pd.DataFrame([[i, 'direct'] for i in direct_transegenes] + [[i, 'topmed'] for i in topmed_transegenes] + [[i, 'eqtlgen'] for i in eqtlgen_transegenes], columns=['gene', 'src'])\n",
    "print(transegenes[transegenes.src=='direct'].gene.isin(transegenes[transegenes.src=='eqtlgen'].gene).mean())\n",
    "print(transegenes[transegenes.src=='topmed'].gene.isin(transegenes[transegenes.src=='eqtlgen'].gene).mean())\n",
    "print(transegenes[transegenes.src=='topmed'].gene.isin(transegenes[transegenes.src=='direct'].gene).mean())"
   ]
  },
  {
   "cell_type": "code",
   "execution_count": 25,
   "metadata": {
    "execution": {
     "iopub.execute_input": "2024-12-05T22:28:44.025302Z",
     "iopub.status.busy": "2024-12-05T22:28:44.024755Z",
     "iopub.status.idle": "2024-12-05T22:28:44.046825Z",
     "shell.execute_reply": "2024-12-05T22:28:44.046304Z"
    }
   },
   "outputs": [
    {
     "data": {
      "text/html": [
       "<div>\n",
       "<style scoped>\n",
       "    .dataframe tbody tr th:only-of-type {\n",
       "        vertical-align: middle;\n",
       "    }\n",
       "\n",
       "    .dataframe tbody tr th {\n",
       "        vertical-align: top;\n",
       "    }\n",
       "\n",
       "    .dataframe thead th {\n",
       "        text-align: right;\n",
       "    }\n",
       "</style>\n",
       "<table border=\"1\" class=\"dataframe\">\n",
       "  <thead>\n",
       "    <tr style=\"text-align: right;\">\n",
       "      <th></th>\n",
       "      <th>topmed_variant_id</th>\n",
       "      <th>gene_id</th>\n",
       "      <th>topmed_slope</th>\n",
       "      <th>direct_variant_id</th>\n",
       "      <th>Coeff</th>\n",
       "      <th>same_lead_variant</th>\n",
       "      <th>linear_distance</th>\n",
       "      <th>r2</th>\n",
       "      <th>high_ld</th>\n",
       "    </tr>\n",
       "  </thead>\n",
       "  <tbody>\n",
       "    <tr>\n",
       "      <th>0</th>\n",
       "      <td>chr3_56815721_T_C</td>\n",
       "      <td>ENSG00000005249</td>\n",
       "      <td>0.359230</td>\n",
       "      <td>chr11_196944_C_T</td>\n",
       "      <td>0.113967</td>\n",
       "      <td>False</td>\n",
       "      <td>NaN</td>\n",
       "      <td>0.000000</td>\n",
       "      <td>0</td>\n",
       "    </tr>\n",
       "    <tr>\n",
       "      <th>1</th>\n",
       "      <td>chr3_56815721_T_C</td>\n",
       "      <td>ENSG00000005249</td>\n",
       "      <td>0.359230</td>\n",
       "      <td>chr3_56815721_T_C</td>\n",
       "      <td>0.318094</td>\n",
       "      <td>True</td>\n",
       "      <td>0.0</td>\n",
       "      <td>1.000000</td>\n",
       "      <td>1</td>\n",
       "    </tr>\n",
       "    <tr>\n",
       "      <th>2</th>\n",
       "      <td>chr7_50342615_A_G</td>\n",
       "      <td>ENSG00000005302</td>\n",
       "      <td>0.259733</td>\n",
       "      <td>chr7_28684757_G_T</td>\n",
       "      <td>-0.123213</td>\n",
       "      <td>False</td>\n",
       "      <td>21657858.0</td>\n",
       "      <td>0.019975</td>\n",
       "      <td>0</td>\n",
       "    </tr>\n",
       "    <tr>\n",
       "      <th>3</th>\n",
       "      <td>chr19_836654_C_T</td>\n",
       "      <td>ENSG00000005381</td>\n",
       "      <td>-0.212631</td>\n",
       "      <td>chr8_60733792_C_CA</td>\n",
       "      <td>-0.107579</td>\n",
       "      <td>False</td>\n",
       "      <td>NaN</td>\n",
       "      <td>0.000000</td>\n",
       "      <td>0</td>\n",
       "    </tr>\n",
       "    <tr>\n",
       "      <th>4</th>\n",
       "      <td>chr19_836654_C_T</td>\n",
       "      <td>ENSG00000005381</td>\n",
       "      <td>-0.212631</td>\n",
       "      <td>chr9_128751091_A_G</td>\n",
       "      <td>0.109331</td>\n",
       "      <td>False</td>\n",
       "      <td>NaN</td>\n",
       "      <td>0.000000</td>\n",
       "      <td>0</td>\n",
       "    </tr>\n",
       "  </tbody>\n",
       "</table>\n",
       "</div>"
      ],
      "text/plain": [
       "   topmed_variant_id          gene_id  topmed_slope   direct_variant_id  \\\n",
       "0  chr3_56815721_T_C  ENSG00000005249      0.359230    chr11_196944_C_T   \n",
       "1  chr3_56815721_T_C  ENSG00000005249      0.359230   chr3_56815721_T_C   \n",
       "2  chr7_50342615_A_G  ENSG00000005302      0.259733   chr7_28684757_G_T   \n",
       "3   chr19_836654_C_T  ENSG00000005381     -0.212631  chr8_60733792_C_CA   \n",
       "4   chr19_836654_C_T  ENSG00000005381     -0.212631  chr9_128751091_A_G   \n",
       "\n",
       "      Coeff  same_lead_variant  linear_distance        r2  high_ld  \n",
       "0  0.113967              False              NaN  0.000000        0  \n",
       "1  0.318094               True              0.0  1.000000        1  \n",
       "2 -0.123213              False       21657858.0  0.019975        0  \n",
       "3 -0.107579              False              NaN  0.000000        0  \n",
       "4  0.109331              False              NaN  0.000000        0  "
      ]
     },
     "execution_count": 1,
     "metadata": {},
     "output_type": "execute_result"
    }
   ],
   "source": [
    "significant_concordance = topmed_trans_eqtl[['variant_id', 'gene_id', 'b']].rename(columns={'b': 'topmed_slope', 'variant_id': 'topmed_variant_id'}).merge(direct_significant[['GeneID', 'SNPid', 'Coeff']].rename(columns={'Slope': 'direct_slope', 'GeneID': 'gene_id', 'SNPid': 'direct_variant_id'}))\n",
    "\n",
    "significant_concordance['same_lead_variant'] = significant_concordance.topmed_variant_id == significant_concordance.direct_variant_id\n",
    "#significant_concordance['same_lead_variant_and_significant'] = (significant_concordance.same_lead_variant) & (significant_concordance.FDR<=0.05)\n",
    "significant_concordance['linear_distance'] = [distance_between_variants(i, j) for i, j in zip(significant_concordance.topmed_variant_id, significant_concordance.direct_variant_id)]\n",
    "significant_concordance['r2'] = [ld_matrix.at[i,j] if i in ld_matrix.index and j in ld_matrix.columns else np.nan for i, j in zip(significant_concordance.topmed_variant_id, significant_concordance.direct_variant_id)]\n",
    "significant_concordance['high_ld'] = (significant_concordance.r2>=0.8).astype(int)\n",
    "significant_concordance.head()"
   ]
  },
  {
   "cell_type": "code",
   "execution_count": 26,
   "metadata": {
    "execution": {
     "iopub.execute_input": "2024-12-05T22:28:44.049389Z",
     "iopub.status.busy": "2024-12-05T22:28:44.048869Z",
     "iopub.status.idle": "2024-12-05T22:28:44.052087Z",
     "shell.execute_reply": "2024-12-05T22:28:44.051568Z"
    }
   },
   "outputs": [
    {
     "name": "stdout",
     "output_type": "stream",
     "text": [
      "774\n"
     ]
    }
   ],
   "source": [
    "print(len(significant_concordance))"
   ]
  },
  {
   "cell_type": "code",
   "execution_count": 27,
   "metadata": {
    "execution": {
     "iopub.execute_input": "2024-12-05T22:28:44.056054Z",
     "iopub.status.busy": "2024-12-05T22:28:44.054649Z",
     "iopub.status.idle": "2024-12-05T22:28:44.061307Z",
     "shell.execute_reply": "2024-12-05T22:28:44.061598Z"
    }
   },
   "outputs": [
    {
     "data": {
      "text/plain": [
       "False    380\n",
       "True      84\n",
       "Name: same_lead_variant, dtype: int64"
      ]
     },
     "execution_count": 1,
     "metadata": {},
     "output_type": "execute_result"
    }
   ],
   "source": [
    "significant_concordance = significant_concordance[['gene_id', 'same_lead_variant', 'high_ld']].groupby('gene_id').max().reset_index()\n",
    "significant_concordance.same_lead_variant.value_counts()"
   ]
  },
  {
   "cell_type": "code",
   "execution_count": 28,
   "metadata": {
    "execution": {
     "iopub.execute_input": "2024-12-05T22:28:44.064920Z",
     "iopub.status.busy": "2024-12-05T22:28:44.064557Z",
     "iopub.status.idle": "2024-12-05T22:28:44.067473Z",
     "shell.execute_reply": "2024-12-05T22:28:44.067158Z"
    }
   },
   "outputs": [
    {
     "data": {
      "text/plain": [
       "0    294\n",
       "1    170\n",
       "Name: high_ld, dtype: int64"
      ]
     },
     "execution_count": 1,
     "metadata": {},
     "output_type": "execute_result"
    }
   ],
   "source": [
    "significant_concordance.high_ld.value_counts()"
   ]
  },
  {
   "cell_type": "code",
   "execution_count": 29,
   "metadata": {
    "execution": {
     "iopub.execute_input": "2024-12-05T22:28:44.070347Z",
     "iopub.status.busy": "2024-12-05T22:28:44.069986Z",
     "iopub.status.idle": "2024-12-05T22:28:44.072805Z",
     "shell.execute_reply": "2024-12-05T22:28:44.072453Z"
    }
   },
   "outputs": [
    {
     "data": {
      "text/plain": [
       "0.36637931034482757"
      ]
     },
     "execution_count": 1,
     "metadata": {},
     "output_type": "execute_result"
    }
   ],
   "source": [
    "significant_concordance.high_ld.sum() / len(significant_concordance)"
   ]
  },
  {
   "cell_type": "code",
   "execution_count": null,
   "metadata": {},
   "outputs": [],
   "source": []
  }
 ],
 "metadata": {
  "kernelspec": {
   "display_name": "2020-09",
   "language": "python",
   "name": "python3"
  },
  "language_info": {
   "codemirror_mode": {
    "name": "ipython",
    "version": 3
   },
   "file_extension": ".py",
   "mimetype": "text/x-python",
   "name": "python",
   "nbconvert_exporter": "python",
   "pygments_lexer": "ipython3",
   "version": "3.8.6"
  }
 },
 "nbformat": 4,
 "nbformat_minor": 2
}
